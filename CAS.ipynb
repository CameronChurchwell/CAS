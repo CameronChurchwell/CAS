{
 "cells": [
  {
   "cell_type": "markdown",
   "metadata": {},
   "source": [
    "# TODO\n",
    "1. dual denominator expansion\n",
    "1. variable substitution"
   ]
  },
  {
   "cell_type": "code",
   "execution_count": 1,
   "metadata": {},
   "outputs": [],
   "source": [
    "import copy"
   ]
  },
  {
   "cell_type": "code",
   "execution_count": 2,
   "metadata": {},
   "outputs": [],
   "source": [
    "class Expression(): #Base Expression Class\n",
    "    \n",
    "    #Addition\n",
    "    def __add__(self, other):\n",
    "        return BinaryExpression(self, \"+\", other)\n",
    "    def __radd__(self, other):\n",
    "        return BinaryExpression(other, \"+\", self)\n",
    "    \n",
    "    #Subtraction\n",
    "    def __sub__(self, other):\n",
    "        return BinaryExpression(self, \"-\", other)\n",
    "    def __rsub__(self, other):\n",
    "        return BinaryExpression(other, \"-\", self)\n",
    "    \n",
    "    #Multiplication\n",
    "    def __mul__(self, other):\n",
    "        return BinaryExpression(self, \"*\", other)\n",
    "    def __rmul__(self, other):\n",
    "        return BinaryExpression(other, \"*\", self)\n",
    "    \n",
    "    #Division\n",
    "    def __truediv__(self, other):\n",
    "        return BinaryExpression(self, \"/\", other)\n",
    "    def __rtruediv__(self, other):\n",
    "        return BinaryExpression(other, \"/\", self)\n",
    "    \n",
    "    #Exponents\n",
    "    def __pow__(self, other):\n",
    "        return BinaryExpression(self, \"^\", other)\n",
    "    def __rpow__(self, other):\n",
    "        return BinaryExpression(other, \"^\", self)"
   ]
  },
  {
   "cell_type": "code",
   "execution_count": 67,
   "metadata": {},
   "outputs": [],
   "source": [
    "class BinaryExpression(Expression): #Binary Expression Class\n",
    "    left = None\n",
    "    operator = None\n",
    "    right = None\n",
    "    \n",
    "    def __init__(self, left, operator, right):\n",
    "        self.left = left\n",
    "        self.operator = operator\n",
    "        self.right = right\n",
    "        \n",
    "    def __hash__(self):\n",
    "        return hash(self.generateTreeString())\n",
    "    \n",
    "    def __eq__(self, other):\n",
    "        return hash(self) == hash(other)\n",
    "        \n",
    "    def containsAdditionOrSubtraction(self): #Test if expression or children contain addition or subtraction\n",
    "        if self.operator in [\"+\", \"-\"]: #Check self\n",
    "            return True\n",
    "        else:\n",
    "            if isinstance(self.left, BinaryExpression): #Check left child\n",
    "                leftContains = self.left.containsAdditionOrSubtraction()\n",
    "            else:\n",
    "                leftContains = False\n",
    "            if isinstance(self.right, BinaryExpression): #Check right child\n",
    "                rightContains = self.right.containsAdditionOrSubtraction()\n",
    "            else:\n",
    "                rightContains = False\n",
    "            return leftContains or rightContains\n",
    "        \n",
    "    def generateTreeString(self):\n",
    "        indentChar = \"  \"\n",
    "        if isinstance(self.left, BinaryExpression):\n",
    "            leftString = indentChar + self.left.generateTreeString().replace(\"\\n\", \"\\n\" + indentChar)\n",
    "        else:\n",
    "            leftString = indentChar + str(self.left)\n",
    "        if isinstance(self.right, BinaryExpression):\n",
    "            rightString = indentChar + self.right.generateTreeString().replace(\"\\n\", \"\\n\" + indentChar)\n",
    "        else:\n",
    "            rightString = indentChar + str(self.right)\n",
    "        return self.operator + \"\\n\" + leftString + \"\\n\" + rightString\n",
    "    \n",
    "    def symbolSubstitution(self, substitutionDict): #NOT IN PLACE\n",
    "        if not isinstance(substitutionDict, dict):\n",
    "            raise TypeError(\"parameter substitutionDict must be a dictionary!\")\n",
    "        else:\n",
    "            #Left\n",
    "            newLeft = self.left\n",
    "            if isinstance(self.left, BinaryExpression): #Recurse\n",
    "                newLeft = self.left.symbolSubstitution(substitutionDict)\n",
    "            elif isinstance(self.left, Symbol): #Substitute Symbol if in dict\n",
    "                if self.left in substitutionDict.keys():\n",
    "                    newLeft = substitutionDict[self.left]\n",
    "            #Right\n",
    "            newRight = self.right\n",
    "            if isinstance(self.right, BinaryExpression): #Recurse\n",
    "                newRight = self.right.symbolSubstitution(substitutionDict)\n",
    "            elif isinstance(self.right, Symbol): #Substitute Symbol if in dict\n",
    "                if self.right in substitutionDict.keys():\n",
    "                    newRight = substitutionDict[self.right]\n",
    "        return BinaryExpression(newLeft, copy.deepcopy(self.operator), newRight)\n",
    "    \n",
    "    def replacePattern(self, replace, capGroups=None, capModifiers=None): #NOT IN PLACE\n",
    "        if capGroups is None: capGroups = {}\n",
    "        if capModifiers is None: capModifiers = {}\n",
    "        newExpr = copy.deepcopy(replace)\n",
    "        substitutionDict = {}\n",
    "        for groupNum in capGroups.keys():\n",
    "            if groupNum in capModifiers.keys():\n",
    "                substitutionDict[Symbol(str(groupNum))] = capModifiers[groupNum](capGroups[groupNum])\n",
    "            else:\n",
    "                substitutionDict[Symbol(str(groupNum))] = capGroups[groupNum]\n",
    "        if len(substitutionDict.keys()) > 0:\n",
    "            newExpr = newExpr.symbolSubstitution(substitutionDict)\n",
    "        return newExpr\n",
    "\n",
    "    def matchAndGather(self, match, capFilters=None): #Returns (ResultBool, CaptureGroups)\n",
    "        if capFilters is None:\n",
    "            capFilters = {}\n",
    "        if hasattr(match, \"__iter__\"):\n",
    "            for pattern in match:\n",
    "                result = self.matchAndGather(match=pattern, capFilters=capFilters)\n",
    "                if result[0]:\n",
    "                    return result\n",
    "            #None of the match patterns matched\n",
    "            return (False, {})\n",
    "        else:\n",
    "            #Check if self matches\n",
    "            if isinstance(self, match.__class__): #Self is correct class\n",
    "                if self.operator == match.operator: #Self has correct operator\n",
    "                    #Check children\n",
    "                    selfChildren = (self.left, self.right)\n",
    "                    matchChildren = (match.left, match.right)\n",
    "                    results = []\n",
    "                    for i in range(0, 2): #Iterate through left and right\n",
    "                        if isinstance(matchChildren[i], Symbol): #Match child is Symbol\n",
    "                            try: #The symbol name is a number, denoting a capture group\n",
    "                                capGroupNum = int(matchChildren[i].name)\n",
    "                                if capGroupNum in capFilters: #There is a filter\n",
    "                                    if capFilters[capGroupNum](selfChildren[i]): #The filter evaluates True\n",
    "                                        results.append((True, {capGroupNum: selfChildren[i]}))\n",
    "                                    else: #The filter evaluates False\n",
    "                                        results.append((False, {}))\n",
    "                                else: #There is no filter\n",
    "                                    results.append((True, {capGroupNum: selfChildren[i]}))\n",
    "                            except ValueError: #The symbol name is not a number\n",
    "                                if matchChildren[i] == selfChildren[i]: #The symbols match\n",
    "                                    results.append((True, {}))\n",
    "                                else: #The symbols do not match\n",
    "                                    results.append((False, {}))\n",
    "                        elif isinstance(matchChildren[i], BinaryExpression): #Match child is BinExp\n",
    "                            if isinstance(selfChildren[i], BinaryExpression):\n",
    "                                results.append(selfChildren[i].matchAndGather(matchChildren[i], capFilters))\n",
    "                            else:\n",
    "                                results.append((False, {}))\n",
    "                        else:\n",
    "                            raise ValueError(\"Unexpected class in match object: \" + str(matchChildren[i].__class__))\n",
    "                    if results[0][0] and results[1][0]: #Both children matched\n",
    "                        totalResults = (True, {})\n",
    "                        for r in results:\n",
    "                            totalResults[1].update(r[1])\n",
    "                        return totalResults\n",
    "            return (False, {})\n",
    "    \n",
    "    def matchAndReplace(self, match, replace, capFilters=None, capModifiers=None, preRecursion=False, postRecursion=False): #NOT IN PLACE\n",
    "        newLeft = copy.deepcopy(self.left)\n",
    "        newRight = copy.deepcopy(self.right)\n",
    "        if preRecursion:\n",
    "            if isinstance(self.left, BinaryExpression):\n",
    "                newLeft = self.left.matchAndReplace(match,\n",
    "                                                 replace,\n",
    "                                                 capFilters=capFilters,\n",
    "                                                 capModifiers=capModifiers,\n",
    "                                                 preRecursion=True)\n",
    "            if isinstance(self.right, BinaryExpression):\n",
    "                newRight = self.right.matchAndReplace(match,\n",
    "                                                  replace,\n",
    "                                                  capFilters=capFilters,\n",
    "                                                  capModifiers=capModifiers,\n",
    "                                                  preRecursion=True)\n",
    "        newBinExp = BinaryExpression(newLeft, copy.deepcopy(self.operator), newRight)\n",
    "        matchResults = newBinExp.matchAndGather(match, capFilters)\n",
    "        if matchResults[0]: #If self matched, replace\n",
    "            newBinExp = newBinExp.replacePattern(replace, matchResults[1], capModifiers)\n",
    "        if postRecursion and self != newBinExp and isinstance(newBinExp, BinaryExpression): #postRecursion on and this last pass changed something\n",
    "            newBinExp = newBinExp.matchAndReplace(match,\n",
    "                                                  replace,\n",
    "                                                  capFilters,\n",
    "                                                  capModifiers,\n",
    "                                                  preRecursion,\n",
    "                                                  postRecursion\n",
    "                                                 )\n",
    "        return newBinExp\n",
    "    \n",
    "    def applyRule(self, rule):\n",
    "        newBinExp = self.matchAndReplace(rule.match,\n",
    "                                    rule.replace,\n",
    "                                    capFilters=rule.capFilters,\n",
    "                                    capModifiers=rule.capModifiers,\n",
    "                                    preRecursion=True,\n",
    "                                    postRecursion=True\n",
    "                                        )\n",
    "        return newBinExp\n",
    "        \n",
    "    def expandExponents(self):\n",
    "        #Expand children if necessary\n",
    "        if isinstance(self.left, BinaryExpression):\n",
    "            self.left = self.left.expandExponents()\n",
    "        if isinstance(self.right, BinaryExpression):\n",
    "            self.right = self.right.expandExponents()\n",
    "        #Expand self if necessary\n",
    "        if self.operator == \"^\": #Current node is exponentiation\n",
    "            if isinstance(self.right, int):\n",
    "                if self.right > 2:\n",
    "                    self.operator = \"*\"\n",
    "                    self.right = BinaryExpression(self.left, \"^\", self.right - 1).expandExponents()\n",
    "                elif self.right == 2:\n",
    "                    self.operator = \"*\"\n",
    "                    self.right = self.left\n",
    "                elif self.right == 1:\n",
    "                    left = self.left\n",
    "                    self.__class__ = left.__class__\n",
    "                    self.__dict__ = left.__dict__\n",
    "                elif self.right <= -1:\n",
    "                    self.left = BinaryExpression(1, \"/\", self.left)\n",
    "                    self.right = -1 * self.right\n",
    "                    self.__dcit__ = self.expandExponents().__dict__\n",
    "        return self\n",
    "    \n",
    "    def expandFracMul(self):\n",
    "        if isinstance(self.left, BinaryExpression):\n",
    "            self.left = self.left.expandFracMul()\n",
    "        if isinstance(self.right, BinaryExpression):\n",
    "            self.right = self.right.expandFracMul()\n",
    "        if self.operator == \"*\":\n",
    "            if isinstance(self.left, BinaryExpression) and isinstance(self.right, BinaryExpression):\n",
    "                if self.left.operator == \"/\" and self.right.operator == \"/\":\n",
    "                    oldLeft = self.left\n",
    "                    oldRight = self.right\n",
    "                    self.operator = \"/\"\n",
    "                    self.left = BinaryExpression(oldLeft.left, \"*\", oldRight.left)\n",
    "                    self.right = BinaryExpression(oldLeft.right, \"*\", oldRight.right)\n",
    "        elif self.operator == \"/\":\n",
    "            if isinstance(self.left, BinaryExpression) and isinstance(self.right, BinaryExpression):\n",
    "                if self.left.operator == \"/\" and self.right.operator == \"/\":\n",
    "                    self.operator = \"*\"\n",
    "                    self.right.left, self.right.right = self.right.right, self.right.left\n",
    "                    return self.expandFracMul()\n",
    "                    #oldLeft = self.left\n",
    "                    #oldRight = self.right\n",
    "                    #self.operator = \"/\"\n",
    "                    #self.left = BinaryExpression(oldLeft.left, \"*\", oldRight.right)\n",
    "                    #self.right = BinaryExpression(oldLeft.right, \"*\", oldRight.left)\n",
    "        return self\n",
    "    \n",
    "    def expand(self):\n",
    "        #First expand exponents in place\n",
    "        self.expandExponents()\n",
    "        #Expand fraction multiplication/division in place\n",
    "        self.expandFracMul()\n",
    "        #Check if expansion at all necessary\n",
    "        if self.containsAdditionOrSubtraction():\n",
    "            #Expand children if necessary\n",
    "            if isinstance(self.left, BinaryExpression):\n",
    "                self.left = self.left.expand()\n",
    "            if isinstance(self.right, BinaryExpression):\n",
    "                self.right = self.right.expand()\n",
    "            #Expand self if necessary\n",
    "            if self.operator in [\"*\", \"/\"] and (isinstance(self.left, BinaryExpression) or isinstance(self.right, BinaryExpression)):\n",
    "                binexpChild = None\n",
    "                distributeOperator = self.operator\n",
    "                if isinstance(self.left, BinaryExpression): #Check if left child is binary expression\n",
    "                    if self.left.operator in [\"+\", \"-\"]: #Check if left expression is addition or subtraction\n",
    "                        binexpChild = self.left\n",
    "                        otherChild = self.right\n",
    "                if isinstance(self.right, BinaryExpression) and self.operator == \"*\": #Check if right child is binary expression\n",
    "                    if self.right.operator in [\"+\", \"-\"]: #Check if right expression is addition or subtraction\n",
    "                        binexpChild = self.right\n",
    "                        otherChild = self.left\n",
    "                if binexpChild is None: #Neither child was binary addition or subtraction\n",
    "                    return self\n",
    "                else: #One child expression was binary addition or subtraction\n",
    "                    self.operator = binexpChild.operator\n",
    "                    self.left = BinaryExpression(binexpChild.left, distributeOperator, otherChild).expand()\n",
    "                    self.right = BinaryExpression(binexpChild.right, distributeOperator, otherChild).expand()\n",
    "        #Expand fraction multiplication/division again if necessary\n",
    "        self.expandFracMul()\n",
    "        return self"
   ]
  },
  {
   "cell_type": "code",
   "execution_count": 54,
   "metadata": {},
   "outputs": [],
   "source": [
    "class Rule():\n",
    "    \n",
    "    def __init__(self, match, replace, capFilters=None, capModifiers=None):\n",
    "        self.match = match\n",
    "        self.replace = replace\n",
    "        self.capFilters=capFilters\n",
    "        self.capModifiers=capModifiers"
   ]
  },
  {
   "cell_type": "code",
   "execution_count": 55,
   "metadata": {},
   "outputs": [],
   "source": [
    "class Term(BinaryExpression): #Term Class (Binary Expression tree containing no + or - which can only be + or - with other expressions)\n",
    "    \n",
    "    def __init__(self):\n",
    "        pass\n",
    "    #Remove ability to multiply, divide, power?\n",
    "    \n",
    "    def reorderTerms(self):\n",
    "        pass\n",
    "    \n",
    "    def expand(self):\n",
    "        return self"
   ]
  },
  {
   "cell_type": "code",
   "execution_count": 56,
   "metadata": {},
   "outputs": [],
   "source": [
    "class Symbol(Expression): #Symbol Class\n",
    "    name = None\n",
    "    \n",
    "    def __init__(self, name):\n",
    "        self.name = name\n",
    "        \n",
    "    def __str__(self):\n",
    "        return self.name\n",
    "    \n",
    "    def __eq__(self, other):\n",
    "        if isinstance(other, Symbol):\n",
    "            if self.name == other.name:\n",
    "                return True\n",
    "        return False\n",
    "    \n",
    "    def __hash__(self):\n",
    "        return hash(self.name)\n",
    "    \n",
    "    def symbolSubstitution(self, substitutionDict):\n",
    "        if self in substitutionDict.keys():\n",
    "            return copy.deepcopy(substitutionDict[self])\n",
    "        \n",
    "    def generateTreeString(self):\n",
    "        return self.name\n",
    "        \n",
    "    def identityHash(self): #BAD! not necessarily identity because charcter codes have differing lengths\n",
    "        if len(self.name) > 32:\n",
    "            raise ValueError(\"name length > 32 not supported!\")\n",
    "        else:\n",
    "            ords = [str(ord(c)) for c in self.name]\n",
    "            hash_string = \"\".join(ords)\n",
    "            hash_int = int(hash_string)\n",
    "            return hash_int"
   ]
  },
  {
   "cell_type": "code",
   "execution_count": 72,
   "metadata": {},
   "outputs": [],
   "source": [
    "class Rules():\n",
    "    \n",
    "    #Negative Exponents\n",
    "    negativeExponentRule = Rule(\n",
    "        match = Symbol(\"0\") ** Symbol(\"1\"),\n",
    "        replace = 1 / (Symbol(\"0\") ** Symbol(\"1\")),\n",
    "        capFilters = {1: lambda i: i<0 if isinstance(i, int) else False},\n",
    "        capModifiers = {1: lambda i: i * -1}\n",
    "    )\n",
    "    \n",
    "    #Identity Exponents\n",
    "    identityExponentRule = Rule(\n",
    "        match = Symbol(\"0\") ** Symbol(\"1\"),\n",
    "        replace = Symbol(\"0\"),\n",
    "        capFilters = {1: lambda i: i == 1 if isinstance(i, int) else False}\n",
    "    )\n",
    "    \n",
    "    #Zero Exponents\n",
    "    zeroExponentRule = Rule(\n",
    "        match = Symbol(\"0\") ** Symbol(\"1\"),\n",
    "        replace = Symbol(\"0\"),\n",
    "        capFilters = {1: lambda i: i == 0 if isinstance(i, int) else False},\n",
    "        capModifiers = {0: lambda i: 1}\n",
    "    )\n",
    "    \n",
    "    #Multiplicative Identity\n",
    "    identityMultiplicationRule = Rule(\n",
    "        match = [\n",
    "            Symbol(\"0\") * Symbol(\"1\"),\n",
    "            Symbol(\"1\") * Symbol(\"0\")\n",
    "        ],\n",
    "        replace = Symbol(\"0\"),\n",
    "        capFilters = {1: lambda i: i == 1 if isinstance(i, int) else False}\n",
    "    )\n",
    "    \n",
    "    #No Subtraction (prefer addition)\n",
    "    noSubtractionRule = Rule(\n",
    "        match = Symbol(\"0\") - Symbol(\"1\"),\n",
    "        replace = Symbol(\"0\") + (-1 * Symbol(\"1\"))\n",
    "    )\n",
    "    \n",
    "    #Multiplication Expansion\n",
    "    multiplicationExpandRule = Rule(\n",
    "        match = [\n",
    "            (Symbol(\"0\") + Symbol(\"1\")) * Symbol(\"2\"),\n",
    "            Symbol(\"2\") * (Symbol(\"0\") + Symbol(\"1\"))\n",
    "        ],\n",
    "        replace = (Symbol(\"0\") * Symbol(\"2\")) + (Symbol(\"1\") * Symbol(\"2\"))\n",
    "    )"
   ]
  },
  {
   "cell_type": "code",
   "execution_count": 58,
   "metadata": {},
   "outputs": [],
   "source": [
    "class Equality(): #Equality class\n",
    "    pass"
   ]
  },
  {
   "cell_type": "code",
   "execution_count": 73,
   "metadata": {},
   "outputs": [],
   "source": [
    "x = Symbol(\"x\")\n",
    "y = Symbol(\"y\")\n",
    "z = Symbol(\"z\")\n",
    "a = Symbol(\"a\")\n",
    "b = Symbol(\"b\")"
   ]
  },
  {
   "cell_type": "code",
   "execution_count": 60,
   "metadata": {},
   "outputs": [
    {
     "name": "stdout",
     "output_type": "stream",
     "text": [
      "^\n",
      "  ^\n",
      "    x\n",
      "    -1\n",
      "  -1\n"
     ]
    }
   ],
   "source": [
    "e = (x ** -1) ** -1\n",
    "print(e.generateTreeString())"
   ]
  },
  {
   "cell_type": "code",
   "execution_count": 61,
   "metadata": {},
   "outputs": [
    {
     "name": "stdout",
     "output_type": "stream",
     "text": [
      "\n",
      "\n",
      "/\n",
      "  1\n",
      "  ^\n",
      "    /\n",
      "      1\n",
      "      ^\n",
      "        x\n",
      "        1\n",
      "    1\n"
     ]
    }
   ],
   "source": [
    "e = e.applyRule(Rules.negativeExponentRule)\n",
    "print(\"\\n\")\n",
    "print(e.generateTreeString())"
   ]
  },
  {
   "cell_type": "code",
   "execution_count": 62,
   "metadata": {},
   "outputs": [
    {
     "name": "stdout",
     "output_type": "stream",
     "text": [
      "/\n",
      "  1\n",
      "  /\n",
      "    1\n",
      "    x\n"
     ]
    }
   ],
   "source": [
    "e = e.applyRule(Rules.identityExponentRule)\n",
    "print(e.generateTreeString())"
   ]
  },
  {
   "cell_type": "code",
   "execution_count": 63,
   "metadata": {},
   "outputs": [],
   "source": [
    "e = x ** 0"
   ]
  },
  {
   "cell_type": "code",
   "execution_count": 64,
   "metadata": {},
   "outputs": [
    {
     "name": "stdout",
     "output_type": "stream",
     "text": [
      "1\n"
     ]
    }
   ],
   "source": [
    "e = e.applyRule(Rules.zeroExponentRule)\n",
    "print(e)"
   ]
  },
  {
   "cell_type": "code",
   "execution_count": 65,
   "metadata": {},
   "outputs": [
    {
     "name": "stdout",
     "output_type": "stream",
     "text": [
      "*\n",
      "  *\n",
      "    +\n",
      "      x\n",
      "      y\n",
      "    +\n",
      "      a\n",
      "      b\n",
      "  +\n",
      "    c\n",
      "    d\n"
     ]
    }
   ],
   "source": [
    "e = ((x + y) * (a + b)) * (Symbol(\"c\") + Symbol(\"d\"))\n",
    "print(e.generateTreeString())"
   ]
  },
  {
   "cell_type": "code",
   "execution_count": 66,
   "metadata": {},
   "outputs": [
    {
     "name": "stdout",
     "output_type": "stream",
     "text": [
      "HIT\n",
      "HIT\n",
      "HIT\n",
      "HIT\n",
      "HIT\n",
      "HIT\n",
      "HIT\n",
      "HIT\n",
      "HIT\n",
      "HIT\n",
      "HIT\n",
      "HIT\n",
      "HIT\n",
      "HIT\n",
      "HIT\n",
      "HIT\n",
      "HIT\n",
      "HIT\n",
      "HIT\n",
      "HIT\n",
      "HIT\n",
      "HIT\n",
      "HIT\n",
      "HIT\n",
      "HIT\n",
      "HIT\n",
      "HIT\n",
      "HIT\n",
      "HIT\n",
      "HIT\n",
      "HIT\n",
      "HIT\n",
      "HIT\n",
      "HIT\n",
      "HIT\n",
      "HIT\n",
      "HIT\n",
      "HIT\n",
      "HIT\n",
      "HIT\n",
      "HIT\n",
      "HIT\n",
      "HIT\n",
      "HIT\n",
      "HIT\n",
      "HIT\n",
      "HIT\n",
      "HIT\n",
      "HIT\n",
      "HIT\n",
      "HIT\n",
      "HIT\n",
      "+\n",
      "  +\n",
      "    +\n",
      "      *\n",
      "        c\n",
      "        *\n",
      "          a\n",
      "          x\n",
      "      *\n",
      "        d\n",
      "        *\n",
      "          a\n",
      "          x\n",
      "    +\n",
      "      *\n",
      "        c\n",
      "        *\n",
      "          b\n",
      "          x\n",
      "      *\n",
      "        d\n",
      "        *\n",
      "          b\n",
      "          x\n",
      "  +\n",
      "    +\n",
      "      *\n",
      "        c\n",
      "        *\n",
      "          a\n",
      "          y\n",
      "      *\n",
      "        d\n",
      "        *\n",
      "          a\n",
      "          y\n",
      "    +\n",
      "      *\n",
      "        c\n",
      "        *\n",
      "          b\n",
      "          y\n",
      "      *\n",
      "        d\n",
      "        *\n",
      "          b\n",
      "          y\n"
     ]
    }
   ],
   "source": [
    "e = e.applyRule(Rules.multiplicationExpandRule)\n",
    "print(e.generateTreeString())"
   ]
  },
  {
   "cell_type": "code",
   "execution_count": 44,
   "metadata": {},
   "outputs": [
    {
     "name": "stdout",
     "output_type": "stream",
     "text": [
      "+\n",
      "  *\n",
      "    *\n",
      "      x\n",
      "      +\n",
      "        a\n",
      "        b\n",
      "    +\n",
      "      c\n",
      "      d\n",
      "  *\n",
      "    *\n",
      "      y\n",
      "      +\n",
      "        a\n",
      "        b\n",
      "    +\n",
      "      c\n",
      "      d\n"
     ]
    }
   ],
   "source": [
    "e = e.applyRule(Rules.leftMultExpandRule)\n",
    "print(e.generateTreeString())"
   ]
  },
  {
   "cell_type": "code",
   "execution_count": 45,
   "metadata": {},
   "outputs": [
    {
     "name": "stdout",
     "output_type": "stream",
     "text": [
      "+\n",
      "  +\n",
      "    *\n",
      "      +\n",
      "        *\n",
      "          x\n",
      "          a\n",
      "        *\n",
      "          x\n",
      "          b\n",
      "      c\n",
      "    *\n",
      "      +\n",
      "        *\n",
      "          x\n",
      "          a\n",
      "        *\n",
      "          x\n",
      "          b\n",
      "      d\n",
      "  +\n",
      "    *\n",
      "      +\n",
      "        *\n",
      "          y\n",
      "          a\n",
      "        *\n",
      "          y\n",
      "          b\n",
      "      c\n",
      "    *\n",
      "      +\n",
      "        *\n",
      "          y\n",
      "          a\n",
      "        *\n",
      "          y\n",
      "          b\n",
      "      d\n"
     ]
    }
   ],
   "source": [
    "e = e.applyRule(Rules.rightMultExpandRule)\n",
    "print(e.generateTreeString())"
   ]
  },
  {
   "cell_type": "code",
   "execution_count": 46,
   "metadata": {},
   "outputs": [],
   "source": [
    "e = a * (x + y + z)"
   ]
  },
  {
   "cell_type": "code",
   "execution_count": 47,
   "metadata": {},
   "outputs": [
    {
     "name": "stdout",
     "output_type": "stream",
     "text": [
      "+\n",
      "  +\n",
      "    *\n",
      "      a\n",
      "      x\n",
      "    *\n",
      "      a\n",
      "      y\n",
      "  *\n",
      "    a\n",
      "    z\n"
     ]
    }
   ],
   "source": [
    "e = e.applyRule(Rules.rightMultExpandRule)\n",
    "print(e.generateTreeString())"
   ]
  },
  {
   "cell_type": "code",
   "execution_count": 48,
   "metadata": {},
   "outputs": [],
   "source": [
    "e = (x * (a + b)) * Symbol(\"c\")"
   ]
  },
  {
   "cell_type": "code",
   "execution_count": 49,
   "metadata": {},
   "outputs": [
    {
     "name": "stdout",
     "output_type": "stream",
     "text": [
      "*\n",
      "  +\n",
      "    *\n",
      "      x\n",
      "      a\n",
      "    *\n",
      "      x\n",
      "      b\n",
      "  c\n"
     ]
    }
   ],
   "source": [
    "e = e.applyRule(Rules.leftMultExpandRule)\n",
    "e = e.applyRule(Rules.rightMultExpandRule)\n",
    "print(e.generateTreeString())"
   ]
  },
  {
   "cell_type": "code",
   "execution_count": 50,
   "metadata": {},
   "outputs": [
    {
     "name": "stdout",
     "output_type": "stream",
     "text": [
      "+\n",
      "  *\n",
      "    a\n",
      "    +\n",
      "      x\n",
      "      y\n",
      "  *\n",
      "    b\n",
      "    +\n",
      "      x\n",
      "      y\n"
     ]
    }
   ],
   "source": [
    "e = (a + b) * (x + y)\n",
    "e = e.applyRule(Rules.leftMultExpandRule)\n",
    "print(e.generateTreeString())"
   ]
  },
  {
   "cell_type": "code",
   "execution_count": 69,
   "metadata": {},
   "outputs": [],
   "source": [
    "e = a * (x - y)"
   ]
  },
  {
   "cell_type": "code",
   "execution_count": 70,
   "metadata": {},
   "outputs": [
    {
     "name": "stdout",
     "output_type": "stream",
     "text": [
      "+\n",
      "  *\n",
      "    x\n",
      "    a\n",
      "  *\n",
      "    *\n",
      "      -1\n",
      "      y\n",
      "    a\n"
     ]
    }
   ],
   "source": [
    "e = e.applyRule(Rules.noSubtractionRule)\n",
    "e = e.applyRule(Rules.multiplicationExpandRule)\n",
    "print(e.generateTreeString())"
   ]
  },
  {
   "cell_type": "code",
   "execution_count": 81,
   "metadata": {},
   "outputs": [],
   "source": [
    "e = x * 1"
   ]
  },
  {
   "cell_type": "code",
   "execution_count": 82,
   "metadata": {},
   "outputs": [],
   "source": [
    "e = e.applyRule(Rules.identityMultiplicationRule)"
   ]
  },
  {
   "cell_type": "code",
   "execution_count": 83,
   "metadata": {},
   "outputs": [
    {
     "name": "stdout",
     "output_type": "stream",
     "text": [
      "x\n"
     ]
    }
   ],
   "source": [
    "print(e.generateTreeString())"
   ]
  },
  {
   "cell_type": "code",
   "execution_count": null,
   "metadata": {},
   "outputs": [],
   "source": []
  }
 ],
 "metadata": {
  "kernelspec": {
   "display_name": "Python 3",
   "language": "python",
   "name": "python3"
  },
  "language_info": {
   "codemirror_mode": {
    "name": "ipython",
    "version": 3
   },
   "file_extension": ".py",
   "mimetype": "text/x-python",
   "name": "python",
   "nbconvert_exporter": "python",
   "pygments_lexer": "ipython3",
   "version": "3.7.3"
  }
 },
 "nbformat": 4,
 "nbformat_minor": 2
}
