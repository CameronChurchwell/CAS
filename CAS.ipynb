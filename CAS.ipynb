{
 "cells": [
  {
   "cell_type": "markdown",
   "metadata": {},
   "source": [
    "# TODO\n",
    "1. dual denominator expansion\n",
    "1. variable substitution"
   ]
  },
  {
   "cell_type": "code",
   "execution_count": 3,
   "metadata": {},
   "outputs": [],
   "source": [
    "class Expression(): #Base Expression Class\n",
    "    \n",
    "    #Addition\n",
    "    def __add__(self, other):\n",
    "        return BinaryExpression(self, \"+\", other)\n",
    "    def __radd__(self, other):\n",
    "        return BinaryExpression(other, \"+\", self)\n",
    "    \n",
    "    #Subtraction\n",
    "    def __sub__(self, other):\n",
    "        return BinaryExpression(self, \"-\", other)\n",
    "    def __rsub__(self, other):\n",
    "        return BinaryExpression(other, \"-\", self)\n",
    "    \n",
    "    #Multiplication\n",
    "    def __mul__(self, other):\n",
    "        return BinaryExpression(self, \"*\", other)\n",
    "    def __rmul__(self, other):\n",
    "        return BinaryExpression(other, \"*\", self)\n",
    "    \n",
    "    #Division\n",
    "    def __truediv__(self, other):\n",
    "        return BinaryExpression(self, \"/\", other)\n",
    "    def __rtruediv__(self, other):\n",
    "        return BinaryExpression(other, \"/\", self)\n",
    "    \n",
    "    #Exponents\n",
    "    def __pow__(self, other):\n",
    "        return BinaryExpression(self, \"^\", other)\n",
    "    def __rpow__(self, other):\n",
    "        return BinaryExpression(other, \"^\", self)"
   ]
  },
  {
   "cell_type": "code",
   "execution_count": 157,
   "metadata": {},
   "outputs": [],
   "source": [
    "class BinaryExpression(Expression): #Binary Expression Class\n",
    "    left = None\n",
    "    operator = None\n",
    "    right = None\n",
    "    \n",
    "    def __init__(self, left, operator, right):\n",
    "        self.left = left\n",
    "        self.operator = operator\n",
    "        self.right = right\n",
    "        \n",
    "    def __hash__(self):\n",
    "        return hash(self.generateTreeString())\n",
    "        \n",
    "    def containsAdditionOrSubtraction(self): #Test if expression or children contain addition or subtraction\n",
    "        if self.operator in [\"+\", \"-\"]: #Check self\n",
    "            return True\n",
    "        else:\n",
    "            if isinstance(self.left, BinaryExpression): #Check left child\n",
    "                leftContains = self.left.containsAdditionOrSubtraction()\n",
    "            else:\n",
    "                leftContains = False\n",
    "            if isinstance(self.right, BinaryExpression): #Check right child\n",
    "                rightContains = self.right.containsAdditionOrSubtraction()\n",
    "            else:\n",
    "                rightContains = False\n",
    "            return leftContains or rightContains\n",
    "        \n",
    "    def generateTreeString(self):\n",
    "        indentChar = \"  \"\n",
    "        if isinstance(self.left, BinaryExpression):\n",
    "            leftString = indentChar + self.left.generateTreeString().replace(\"\\n\", \"\\n\" + indentChar)\n",
    "        else:\n",
    "            leftString = indentChar + str(self.left)\n",
    "        if isinstance(self.right, BinaryExpression):\n",
    "            rightString = indentChar + self.right.generateTreeString().replace(\"\\n\", \"\\n\" + indentChar)\n",
    "        else:\n",
    "            rightString = indentChar + str(self.right)\n",
    "        return self.operator + \"\\n\" + leftString + \"\\n\" + rightString\n",
    "    \n",
    "    def symbolSubstitution(self, substitutionDict): #NOT IN PLACE\n",
    "        if not isinstance(substitutionDict, dict):\n",
    "            raise TypeError(\"parameter substitutionDict must be a dictionary!\")\n",
    "        else:\n",
    "            #Left\n",
    "            newLeft = self.left\n",
    "            if isinstance(self.left, BinaryExpression): #Recurse\n",
    "                newLeft = self.left.symbolSubstitution(substitutionDict)\n",
    "            elif isinstance(self.left, Symbol): #Substitute Symbol if in dict\n",
    "                if self.left in substitutionDict.keys():\n",
    "                    newLeft = substitutionDict[self.left]\n",
    "            #Right\n",
    "            newRight = self.right\n",
    "            if isinstance(self.right, BinaryExpression): #Recurse\n",
    "                newRight = self.right.symbolSubstitution(substitutionDict)\n",
    "            elif isinstance(self.right, Symbol): #Substitute Symbol if in dict\n",
    "                if self.right in substitutionDict.keys():\n",
    "                    newRight = substitutionDict[self.right]\n",
    "        return BinaryExpression(newLeft, self.operator, newRight)\n",
    "    \n",
    "    def replacePattern(self, match, replace, constantModifier=None):\n",
    "        pass\n",
    "                \n",
    "    #Resturns (ResultBool, ExpressionCapGroupDict, IntCapGroupDict)\n",
    "    def matchAndGather(self, match, exprCapFilters={}, intCapFilters={}):\n",
    "        #Check if self matches\n",
    "        if isinstance(self, match.__class__): #Self is correct class\n",
    "            if self.operator == match.operator: #Self has correct operator\n",
    "                #Check children\n",
    "                selfChildren = (self.left, self.right)\n",
    "                matchChildren = (match.left, match.right)\n",
    "                results = []\n",
    "                for i in range(0, 2): #Iterate through left and right\n",
    "                    if isinstance(matchChildren[i], Symbol): #Match child is Symbol\n",
    "                        try: #The symbol name is a number, denoting a capture group\n",
    "                            capGroupNum = int(matchChildren[i].name)\n",
    "                            capGroupDict = {capGroupNum: selfChildren[i]}\n",
    "                            results.append((True, capGroupDict, {}))\n",
    "                        except ValueError: #The symbol name is not a number\n",
    "                            if matchChildren[i] == selfChildren[i]: #The symbols match\n",
    "                                results.append(True, {}, {})\n",
    "                            else: #The symbols do not match\n",
    "                                results.append(False, {}, {})\n",
    "                    elif isinstance(matchChildren[i], BinaryExpression): #Match child is BinExp\n",
    "                        results.append(selfChildren[i].matchAndGather(matchChildren[i]), exprCapFilters, intCapFilters)\n",
    "                    elif isinstance(matchChildren[i], int): #Int Capture Group\n",
    "                        if isinstance(selfChildren[i], int):\n",
    "                            if matchChildren[i] in intCapFilters.keys():\n",
    "                                if intCapFilters[matchChildren[i]](selfChildren[i]):\n",
    "                                    results.append((True, {}, {matchChildren[i]: selfChildren[i]}))\n",
    "                                else:\n",
    "                                    results.append((False, {}, {}))\n",
    "                            else:\n",
    "                                results.append((True, {}, {matchChildren[i]: selfChildren[i]}))\n",
    "                        else:\n",
    "                            results.append((False, {}, {}))\n",
    "                if results[0][0] and results[1][0]: #Both children matched\n",
    "                    totalResults = (True, {}, {})\n",
    "                    for r in results:\n",
    "                        totalResults[1].update(r[1])\n",
    "                        totalResults[2].update(r[2])\n",
    "                    return totalResults\n",
    "        return (False, {}, {})\n",
    "        \n",
    "    def expandExponents(self):\n",
    "        #Expand children if necessary\n",
    "        if isinstance(self.left, BinaryExpression):\n",
    "            self.left = self.left.expandExponents()\n",
    "        if isinstance(self.right, BinaryExpression):\n",
    "            self.right = self.right.expandExponents()\n",
    "        #Expand self if necessary\n",
    "        if self.operator == \"^\": #Current node is exponentiation\n",
    "            if isinstance(self.right, int):\n",
    "                if self.right > 2:\n",
    "                    self.operator = \"*\"\n",
    "                    self.right = BinaryExpression(self.left, \"^\", self.right - 1).expandExponents()\n",
    "                elif self.right == 2:\n",
    "                    self.operator = \"*\"\n",
    "                    self.right = self.left\n",
    "                elif self.right == 1:\n",
    "                    left = self.left\n",
    "                    self.__class__ = left.__class__\n",
    "                    self.__dict__ = left.__dict__\n",
    "                elif self.right <= -1:\n",
    "                    self.left = BinaryExpression(1, \"/\", self.left)\n",
    "                    self.right = -1 * self.right\n",
    "                    self.__dcit__ = self.expandExponents().__dict__\n",
    "        return self\n",
    "    \n",
    "    def expandFracMul(self):\n",
    "        if isinstance(self.left, BinaryExpression):\n",
    "            self.left = self.left.expandFracMul()\n",
    "        if isinstance(self.right, BinaryExpression):\n",
    "            self.right = self.right.expandFracMul()\n",
    "        if self.operator == \"*\":\n",
    "            if isinstance(self.left, BinaryExpression) and isinstance(self.right, BinaryExpression):\n",
    "                if self.left.operator == \"/\" and self.right.operator == \"/\":\n",
    "                    oldLeft = self.left\n",
    "                    oldRight = self.right\n",
    "                    self.operator = \"/\"\n",
    "                    self.left = BinaryExpression(oldLeft.left, \"*\", oldRight.left)\n",
    "                    self.right = BinaryExpression(oldLeft.right, \"*\", oldRight.right)\n",
    "        elif self.operator == \"/\":\n",
    "            if isinstance(self.left, BinaryExpression) and isinstance(self.right, BinaryExpression):\n",
    "                if self.left.operator == \"/\" and self.right.operator == \"/\":\n",
    "                    self.operator = \"*\"\n",
    "                    self.right.left, self.right.right = self.right.right, self.right.left\n",
    "                    return self.expandFracMul()\n",
    "                    #oldLeft = self.left\n",
    "                    #oldRight = self.right\n",
    "                    #self.operator = \"/\"\n",
    "                    #self.left = BinaryExpression(oldLeft.left, \"*\", oldRight.right)\n",
    "                    #self.right = BinaryExpression(oldLeft.right, \"*\", oldRight.left)\n",
    "        return self\n",
    "    \n",
    "    def expand(self):\n",
    "        #First expand exponents in place\n",
    "        self.expandExponents()\n",
    "        #Expand fraction multiplication/division in place\n",
    "        self.expandFracMul()\n",
    "        #Check if expansion at all necessary\n",
    "        if self.containsAdditionOrSubtraction():\n",
    "            #Expand children if necessary\n",
    "            if isinstance(self.left, BinaryExpression):\n",
    "                self.left = self.left.expand()\n",
    "            if isinstance(self.right, BinaryExpression):\n",
    "                self.right = self.right.expand()\n",
    "            #Expand self if necessary\n",
    "            if self.operator in [\"*\", \"/\"] and (isinstance(self.left, BinaryExpression) or isinstance(self.right, BinaryExpression)):\n",
    "                binexpChild = None\n",
    "                distributeOperator = self.operator\n",
    "                if isinstance(self.left, BinaryExpression): #Check if left child is binary expression\n",
    "                    if self.left.operator in [\"+\", \"-\"]: #Check if left expression is addition or subtraction\n",
    "                        binexpChild = self.left\n",
    "                        otherChild = self.right\n",
    "                if isinstance(self.right, BinaryExpression) and self.operator == \"*\": #Check if right child is binary expression\n",
    "                    if self.right.operator in [\"+\", \"-\"]: #Check if right expression is addition or subtraction\n",
    "                        binexpChild = self.right\n",
    "                        otherChild = self.left\n",
    "                if binexpChild is None: #Neither child was binary addition or subtraction\n",
    "                    return self\n",
    "                else: #One child expression was binary addition or subtraction\n",
    "                    self.operator = binexpChild.operator\n",
    "                    self.left = BinaryExpression(binexpChild.left, distributeOperator, otherChild).expand()\n",
    "                    self.right = BinaryExpression(binexpChild.right, distributeOperator, otherChild).expand()\n",
    "        #Expand fraction multiplication/division again if necessary\n",
    "        self.expandFracMul()\n",
    "        return self"
   ]
  },
  {
   "cell_type": "code",
   "execution_count": 5,
   "metadata": {},
   "outputs": [],
   "source": [
    "class Term(BinaryExpression): #Term Class (Binary Expression tree containing no + or - which can only be + or - with other expressions)\n",
    "    \n",
    "    def __init__(self):\n",
    "        pass\n",
    "    #Remove ability to multiply, divide, power?\n",
    "    \n",
    "    def reorderTerms(self):\n",
    "        pass\n",
    "    \n",
    "    def expand(self):\n",
    "        return self"
   ]
  },
  {
   "cell_type": "code",
   "execution_count": 6,
   "metadata": {},
   "outputs": [],
   "source": [
    "class Symbol(Expression): #Symbol Class\n",
    "    name = None\n",
    "    \n",
    "    def __init__(self, name):\n",
    "        self.name = name\n",
    "        \n",
    "    def __str__(self):\n",
    "        return self.name\n",
    "    \n",
    "    def __eq__(self, other):\n",
    "        if isinstance(other, Symbol):\n",
    "            if self.name == other.name:\n",
    "                return True\n",
    "        return False\n",
    "    \n",
    "    def __hash__(self):\n",
    "        return hash(self.name)\n",
    "        \n",
    "    def identityHash(self): #BAD! not necessarily identity because charcter codes have differing lengths\n",
    "        if len(self.name) > 32:\n",
    "            raise ValueError(\"name length > 32 not supported!\")\n",
    "        else:\n",
    "            ords = [str(ord(c)) for c in self.name]\n",
    "            hash_string = \"\".join(ords)\n",
    "            hash_int = int(hash_string)\n",
    "            return hash_int"
   ]
  },
  {
   "cell_type": "code",
   "execution_count": 5,
   "metadata": {},
   "outputs": [],
   "source": [
    "class Equality(): #Equality class\n",
    "    pass"
   ]
  },
  {
   "cell_type": "code",
   "execution_count": 10,
   "metadata": {},
   "outputs": [],
   "source": [
    "x = Symbol(\"x\")\n",
    "y = Symbol(\"y\")\n",
    "z = Symbol(\"z\")\n",
    "a = Symbol(\"a\")\n",
    "b = Symbol(\"b\")"
   ]
  },
  {
   "cell_type": "code",
   "execution_count": 162,
   "metadata": {},
   "outputs": [],
   "source": [
    "e = x ** 1"
   ]
  },
  {
   "cell_type": "code",
   "execution_count": 163,
   "metadata": {},
   "outputs": [],
   "source": [
    "m = Symbol(\"0\") ** 0"
   ]
  },
  {
   "cell_type": "code",
   "execution_count": 164,
   "metadata": {},
   "outputs": [],
   "source": [
    "r = e.matchAndGather(m, intCapFilters={0: lambda a: a<0})"
   ]
  },
  {
   "cell_type": "code",
   "execution_count": 165,
   "metadata": {},
   "outputs": [
    {
     "name": "stdout",
     "output_type": "stream",
     "text": [
      "(False, {}, {})\n"
     ]
    }
   ],
   "source": [
    "print(r)"
   ]
  },
  {
   "cell_type": "code",
   "execution_count": 95,
   "metadata": {},
   "outputs": [
    {
     "name": "stdout",
     "output_type": "stream",
     "text": [
      "x\n"
     ]
    }
   ],
   "source": [
    "print(r[1][\"0\"].name)"
   ]
  },
  {
   "cell_type": "code",
   "execution_count": 106,
   "metadata": {},
   "outputs": [
    {
     "data": {
      "text/plain": [
       "5"
      ]
     },
     "execution_count": 106,
     "metadata": {},
     "output_type": "execute_result"
    }
   ],
   "source": [
    "{1: 5}[1]"
   ]
  },
  {
   "cell_type": "code",
   "execution_count": 167,
   "metadata": {},
   "outputs": [],
   "source": [
    "f = lambda i: i<0 if isinstance(i, int) else False"
   ]
  },
  {
   "cell_type": "code",
   "execution_count": 170,
   "metadata": {},
   "outputs": [
    {
     "data": {
      "text/plain": [
       "False"
      ]
     },
     "execution_count": 170,
     "metadata": {},
     "output_type": "execute_result"
    }
   ],
   "source": [
    "f(\"hello\")"
   ]
  },
  {
   "cell_type": "code",
   "execution_count": null,
   "metadata": {},
   "outputs": [],
   "source": []
  }
 ],
 "metadata": {
  "kernelspec": {
   "display_name": "Python 3",
   "language": "python",
   "name": "python3"
  },
  "language_info": {
   "codemirror_mode": {
    "name": "ipython",
    "version": 3
   },
   "file_extension": ".py",
   "mimetype": "text/x-python",
   "name": "python",
   "nbconvert_exporter": "python",
   "pygments_lexer": "ipython3",
   "version": "3.7.3"
  }
 },
 "nbformat": 4,
 "nbformat_minor": 2
}
