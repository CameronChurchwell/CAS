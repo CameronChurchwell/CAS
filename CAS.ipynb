{
 "cells": [
  {
   "cell_type": "code",
   "execution_count": 1,
   "metadata": {},
   "outputs": [],
   "source": [
    "import copy\n",
    "from numbers import Number"
   ]
  },
  {
   "cell_type": "code",
   "execution_count": 2,
   "metadata": {},
   "outputs": [],
   "source": [
    "class Expression():\n",
    "    \"\"\"Abstract expression class.\"\"\"\n",
    "    \n",
    "    #Addition\n",
    "    def __add__(self, other):\n",
    "        return BinaryExpression(self, \"+\", other)\n",
    "    def __radd__(self, other):\n",
    "        return BinaryExpression(other, \"+\", self)\n",
    "    \n",
    "    #Subtraction\n",
    "    def __sub__(self, other):\n",
    "        return BinaryExpression(self, \"-\", other)\n",
    "    def __rsub__(self, other):\n",
    "        return BinaryExpression(other, \"-\", self)\n",
    "    \n",
    "    #Multiplication\n",
    "    def __mul__(self, other):\n",
    "        return BinaryExpression(self, \"*\", other)\n",
    "    def __rmul__(self, other):\n",
    "        return BinaryExpression(other, \"*\", self)\n",
    "    \n",
    "    #Division\n",
    "    def __truediv__(self, other):\n",
    "        return BinaryExpression(self, \"/\", other)\n",
    "    def __rtruediv__(self, other):\n",
    "        return BinaryExpression(other, \"/\", self)\n",
    "    \n",
    "    #Exponents\n",
    "    def __pow__(self, other):\n",
    "        return BinaryExpression(self, \"^\", other)\n",
    "    def __rpow__(self, other):\n",
    "        return BinaryExpression(other, \"^\", self)"
   ]
  },
  {
   "cell_type": "code",
   "execution_count": 3,
   "metadata": {},
   "outputs": [],
   "source": [
    "class BinaryExpression(Expression):\n",
    "    \"\"\"Class for representing binary expressions such as addition and exponentiation.\"\"\"\n",
    "    left = None\n",
    "    operator = None\n",
    "    right = None\n",
    "    \n",
    "    def __init__(self, left, operator, right):\n",
    "        self.left = left\n",
    "        self.operator = operator\n",
    "        self.right = right\n",
    "        \n",
    "    def generateTreeString(self):\n",
    "        \"\"\"Generates a string representation of the tree for the BinaryExpression.\"\"\"\n",
    "        \n",
    "        indentChar = \"  \"\n",
    "        if isinstance(self.left, BinaryExpression):\n",
    "            leftString = indentChar + self.left.generateTreeString().replace(\"\\n\", \"\\n\" + indentChar)\n",
    "        else:\n",
    "            leftString = indentChar + str(self.left)\n",
    "        if isinstance(self.right, BinaryExpression):\n",
    "            rightString = indentChar + self.right.generateTreeString().replace(\"\\n\", \"\\n\" + indentChar)\n",
    "        else:\n",
    "            rightString = indentChar + str(self.right)\n",
    "        return self.operator + \"\\n\" + leftString + \"\\n\" + rightString\n",
    "    \n",
    "    def __hash__(self):\n",
    "        \"\"\"Returns hash of the tree string as tree strings are unique to BinaryExpressions.\"\"\"\n",
    "        return hash(self.generateTreeString())\n",
    "    \n",
    "    def __eq__(self, other):\n",
    "        \"\"\"Tests the equality of two Binary Expressions using hashes.\"\"\"\n",
    "        return hash(self) == hash(other)\n",
    "    \n",
    "    def __repr__(self):\n",
    "        \"\"\"Returns tree string starting on a new line.\"\"\"\n",
    "        return \"\\n\" + self.generateTreeString()\n",
    "    \n",
    "    def symbolSubstitution(self, substitutionDict): #NOT IN PLACE\n",
    "        \"\"\"Substitutes in objects for symbols from a dictionary which maps the substitutions. \n",
    "        This operation is not in place.\"\"\"\n",
    "        if not isinstance(substitutionDict, dict):\n",
    "            raise TypeError(\"parameter substitutionDict must be a dictionary!\")\n",
    "        else:\n",
    "            #Left\n",
    "            newLeft = self.left\n",
    "            if isinstance(self.left, BinaryExpression): #Recurse\n",
    "                newLeft = self.left.symbolSubstitution(substitutionDict)\n",
    "            elif isinstance(self.left, Symbol): #Substitute Symbol if in dict\n",
    "                if self.left in substitutionDict.keys():\n",
    "                    newLeft = substitutionDict[self.left]\n",
    "            #Right\n",
    "            newRight = self.right\n",
    "            if isinstance(self.right, BinaryExpression): #Recurse\n",
    "                newRight = self.right.symbolSubstitution(substitutionDict)\n",
    "            elif isinstance(self.right, Symbol): #Substitute Symbol if in dict\n",
    "                if self.right in substitutionDict.keys():\n",
    "                    newRight = substitutionDict[self.right]\n",
    "        return BinaryExpression(newLeft, copy.deepcopy(self.operator), newRight)\n",
    "    \n",
    "    def generateReplacement(self, replace, capGroups=None, capModifiers=None): #NOT IN PLACE\n",
    "        \"\"\"Substitutes capture groups into a replace pattern. Applies capture modifiers first if supplied.\n",
    "        This operation is not in place.\"\"\"\n",
    "        if capGroups is None: capGroups = {}\n",
    "        if capModifiers is None: capModifiers = {}\n",
    "        newExpr = copy.deepcopy(replace)\n",
    "        substitutionDict = {}\n",
    "        for groupNum in capGroups.keys():\n",
    "            if groupNum in capModifiers.keys():\n",
    "                substitutionDict[Symbol(str(groupNum))] = capModifiers[groupNum](capGroups[groupNum])\n",
    "            else:\n",
    "                substitutionDict[Symbol(str(groupNum))] = capGroups[groupNum]\n",
    "        if len(substitutionDict.keys()) > 0:\n",
    "            newExpr = newExpr.symbolSubstitution(substitutionDict)\n",
    "        return newExpr\n",
    "    \n",
    "    def matchAndGather(self, match, capFilters=None): #Returns (ResultBool, CaptureGroups)\n",
    "        \"\"\"Attempts to match a given pattern against the BinaryExpression object. Applies capture filters if supplied.\n",
    "        Can also take an array of patterns to match. \n",
    "        Behavior is undefined if patterns in the array have different capture groups.\n",
    "        Returns (resultBool, capGroupsDict)\"\"\"\n",
    "        if capFilters is None:\n",
    "            capFilters = {}\n",
    "        if hasattr(match, \"__iter__\"):\n",
    "            for pattern in match:\n",
    "                result = self.matchAndGather(match=pattern, capFilters=capFilters)\n",
    "                if result[0]:\n",
    "                    return result\n",
    "            #None of the match patterns matched\n",
    "            return (False, {})\n",
    "        else:\n",
    "            #Check if self matches\n",
    "            if isinstance(self, match.__class__): #Self is correct class\n",
    "                if self.operator == match.operator: #Self has correct operator\n",
    "                    #Check children\n",
    "                    selfChildren = (self.left, self.right)\n",
    "                    matchChildren = (match.left, match.right)\n",
    "                    results = []\n",
    "                    for i in range(0, 2): #Iterate through left and right\n",
    "                        if isinstance(matchChildren[i], Symbol): #Match child is Symbol\n",
    "                            try: #The symbol name is a number, denoting a capture group\n",
    "                                capGroupNum = int(matchChildren[i].name)\n",
    "                                if capGroupNum in capFilters: #There is a filter\n",
    "                                    if capFilters[capGroupNum](selfChildren[i]): #The filter evaluates True\n",
    "                                        results.append((True, {capGroupNum: selfChildren[i]}))\n",
    "                                    else: #The filter evaluates False\n",
    "                                        results.append((False, {}))\n",
    "                                else: #There is no filter\n",
    "                                    results.append((True, {capGroupNum: selfChildren[i]}))\n",
    "                            except ValueError: #The symbol name is not a number\n",
    "                                if matchChildren[i] == selfChildren[i]: #The symbols match\n",
    "                                    results.append((True, {}))\n",
    "                                else: #The symbols do not match\n",
    "                                    results.append((False, {}))\n",
    "                        elif isinstance(matchChildren[i], BinaryExpression): #Match child is BinExp\n",
    "                            if isinstance(selfChildren[i], BinaryExpression):\n",
    "                                results.append(selfChildren[i].matchAndGather(matchChildren[i], capFilters))\n",
    "                            else:\n",
    "                                results.append((False, {}))\n",
    "                        else:\n",
    "                            raise ValueError(\"Unexpected class in match object: \" + str(matchChildren[i].__class__))\n",
    "                    if results[0][0] and results[1][0]: #Both children matched\n",
    "                        totalResults = (True, {})\n",
    "                        for r in results:\n",
    "                            totalResults[1].update(r[1])\n",
    "                        return totalResults\n",
    "            elif isinstance(match, Symbol):\n",
    "                try: #The symbol name is a number, denoting a capture group\n",
    "                    capGroupNum = int(match.name)\n",
    "                    if capGroupNum in capFilters: #There is a filter\n",
    "                        if capFilters[capGroupNum](self): #The filter evaluates True\n",
    "                            return(True, {capGroupNum: self})\n",
    "                        else: #The filter evaluates False\n",
    "                            return (False, {})\n",
    "                    else: #There is no filter\n",
    "                        return (True, {capGroupNum: self})\n",
    "                except ValueError: #The symbol name is not a number\n",
    "                    if match == self: #The symbols match\n",
    "                        return (True, {})\n",
    "                    else: #The symbols do not match\n",
    "                        return (False, {})\n",
    "            else:\n",
    "                raise ValueError(\"unsupported type for match object\")\n",
    "            return (False, {})\n",
    "\n",
    "    def matchAndGenReplace(self, match, replace, capFilters=None, capModifiers=None):\n",
    "        \"\"\"Tries to match pattern against self, generates replacement if match succeeds.\n",
    "        This operation is not performed in place. Returns (resultBool, replacementBinaryExpressionOrNone)\"\"\"\n",
    "        result, capGroups = self.matchAndGather(match, capFilters=capFilters)\n",
    "        replacement = None\n",
    "        if result:\n",
    "            replacement = self.generateReplacement(replace, capGroups=capGroups, capModifiers=capModifiers)\n",
    "        return (result, replacement)\n",
    "    \n",
    "    def applyRule(self, rule):\n",
    "        \"\"\"Applies a given rule to the BinaryExpression object.\n",
    "        Returns (resultBool, replacementBinaryExpressionOrNone).\"\"\"\n",
    "        return self.matchAndGenReplace(\n",
    "            match = rule.match,\n",
    "            replace = rule.replace,\n",
    "            capFilters = rule.capFilters,\n",
    "            capModifiers = rule.capModifiers\n",
    "        )\n",
    "    \n",
    "    def matchRule(self, matchRule):\n",
    "        \"\"\"Matches the given rule against the BinaryExpression object\"\"\"\n",
    "        return self.matchAndGather(matchRule.match, matchRule.capFilters)\n",
    "        \n",
    "    def applyRuleset(self, ruleset):\n",
    "        \"\"\"Applies the ruleset to self via a dfs algorithm.\n",
    "        Recursively re-calls on self when the application of a rule leads to a change.\n",
    "        Could probably be further optimized.\"\"\"\n",
    "        #Apply to children (dfs)\n",
    "        newLeft = self.left.applyRuleset(ruleset) if isinstance(self.left, BinaryExpression) else self.left\n",
    "        newRight = self.right.applyRuleset(ruleset) if isinstance(self.right, BinaryExpression) else self.right\n",
    "        newSelf = BinaryExpression(newLeft, self.operator, newRight)\n",
    "        #Iterate rules\n",
    "        for rule in ruleset.ruleList:\n",
    "            result, changedSelf = newSelf.applyRule(rule)\n",
    "            if result:\n",
    "                #newSelf was changed by rule, re-call on newSelf with change\n",
    "                return changedSelf.applyRuleset(ruleset) if isinstance(changedSelf, BinaryExpression) else changedSelf\n",
    "        #No changes made to newSelf, return newSelf\n",
    "        return newSelf"
   ]
  },
  {
   "cell_type": "code",
   "execution_count": 4,
   "metadata": {},
   "outputs": [],
   "source": [
    "class Rule():\n",
    "    \"\"\"Class for storing match, replace, capFilters, and capModifiers objects for easy reference and application.\"\"\"\n",
    "    \n",
    "    def __init__(self, match, replace, capFilters=None, capModifiers=None):\n",
    "        self.match = match\n",
    "        self.replace = replace\n",
    "        self.capFilters=capFilters\n",
    "        self.capModifiers=capModifiers"
   ]
  },
  {
   "cell_type": "code",
   "execution_count": 5,
   "metadata": {},
   "outputs": [],
   "source": [
    "class MatchRule():\n",
    "    \"\"\"Class for storing match and capFilters objects for easy reference and application.\"\"\"\n",
    "    \n",
    "    def __init__(self, match, capFilters=None):\n",
    "        self.match = match\n",
    "        self.capFilters = capFilters"
   ]
  },
  {
   "cell_type": "code",
   "execution_count": 6,
   "metadata": {},
   "outputs": [],
   "source": [
    "class Ruleset():\n",
    "    \"\"\"Class for storing multiple rules to be applied using the applyRuleset BinaryExpression algorithm.\"\"\"\n",
    "    \n",
    "    def __init__(self, ruleList):\n",
    "        self.ruleList = ruleList"
   ]
  },
  {
   "cell_type": "code",
   "execution_count": 7,
   "metadata": {},
   "outputs": [],
   "source": [
    "class Symbol(Expression):\n",
    "    \"\"\"Class for symbolic representation objects. Objects have only a name field.\"\"\"\n",
    "    name = None\n",
    "    \n",
    "    def __init__(self, name):\n",
    "        self.name = name\n",
    "        \n",
    "    def __str__(self):\n",
    "        \"\"\"Returns the name of the Symbol as a string.\"\"\"\n",
    "        return self.name\n",
    "    \n",
    "    def __eq__(self, other):\n",
    "        \"\"\"Tests equality via type and then name if other is also a Symbol.\"\"\"\n",
    "        if isinstance(other, Symbol):\n",
    "            if self.name == other.name:\n",
    "                return True\n",
    "        return False\n",
    "    \n",
    "    def __hash__(self):\n",
    "        \"\"\"Returns a hash based on the name of the Symbol.\"\"\"\n",
    "        return hash(self.name)\n",
    "    \n",
    "    def __repr__(self):\n",
    "        \"\"\"Returns the name of the Symbol as a string.\"\"\"\n",
    "        return self.name\n",
    "    \n",
    "    def symbolSubstitution(self, substitutionDict):\n",
    "        \"\"\"Returns a copy of the object from the substitution dict if self is a key.\"\"\"\n",
    "        if self in substitutionDict.keys():\n",
    "            return copy.deepcopy(substitutionDict[self])\n",
    "        \n",
    "    def generateTreeString(self):\n",
    "        \"\"\"Returns the name of the Symbol as a string.\"\"\"\n",
    "        return self.name"
   ]
  },
  {
   "cell_type": "code",
   "execution_count": 8,
   "metadata": {},
   "outputs": [],
   "source": [
    "class Rules():\n",
    "    \n",
    "    #No Division Rule\n",
    "    noDivisionRule = Rule(\n",
    "        match = Symbol(\"0\") / Symbol(\"1\"),\n",
    "        replace = Symbol(\"0\") * (Symbol(\"1\") ** -1)\n",
    "    )\n",
    "    \n",
    "    #Exponent Power Rule\n",
    "    expPowerRule = Rule(\n",
    "        match = (Symbol(\"0\") ** Symbol(\"1\")) ** Symbol(\"2\"),\n",
    "        replace = Symbol(\"0\") ** (Symbol(\"1\") * Symbol(\"2\"))\n",
    "    )\n",
    "    \n",
    "    #No Subtraction\n",
    "    noSubtractionRule = Rule(\n",
    "        match = Symbol(\"0\") - Symbol(\"1\"),\n",
    "        replace = Symbol(\"0\") + (-1 * Symbol(\"1\"))\n",
    "    )\n",
    "    \n",
    "    #Multiplication Expansion\n",
    "    multiplicationExpandRule = Rule(\n",
    "        match = [\n",
    "            (Symbol(\"0\") + Symbol(\"1\")) * Symbol(\"2\"),\n",
    "            Symbol(\"2\") * (Symbol(\"0\") + Symbol(\"1\"))\n",
    "        ],\n",
    "        replace = (Symbol(\"0\") * Symbol(\"2\")) + (Symbol(\"1\") * Symbol(\"2\"))\n",
    "    )\n",
    "    \n",
    "    #Multiplication expand rule for when both have -1 exponent (denominator multiplication)\n",
    "    multNegExpExpandRule = Rule(\n",
    "        match = [\n",
    "            ((Symbol(\"0\") + Symbol(\"1\")) ** Symbol(\"3\")) * (Symbol(\"2\") ** Symbol(\"4\")),\n",
    "            (Symbol(\"2\") ** Symbol(\"3\")) * ((Symbol(\"0\") + Symbol(\"1\")) ** Symbol(\"4\"))\n",
    "        ],\n",
    "        replace = ((Symbol(\"0\") * Symbol(\"2\")) + (Symbol(\"1\") * Symbol(\"2\"))) ** -1,\n",
    "        capFilters = {3: lambda e: e == -1, 4: lambda e: e == -1}\n",
    "    )\n",
    "    \n",
    "    #Distribute exponents over multiplication\n",
    "    expMultDistributeRule = Rule(\n",
    "        match = (Symbol(\"0\") * Symbol(\"1\")) ** Symbol(\"2\"),\n",
    "        replace = (Symbol(\"0\") ** Symbol(\"2\")) * (Symbol(\"1\") ** Symbol(\"2\"))\n",
    "    )\n",
    "    \n",
    "    #Distribute positive constant exponents over addition\n",
    "    expAddExpandRule = Rule(\n",
    "        match = (Symbol(\"0\") + Symbol(\"1\")) ** Symbol(\"2\"),\n",
    "        replace = (Symbol(\"0\") + Symbol(\"1\")) * (Symbol(\"0\") + Symbol(\"1\")) ** Symbol(\"2\"),\n",
    "        capFilters = {2: lambda e: e > 1 if isinstance(e, Number) else False},\n",
    "        capModifiers = {2: lambda e: e - 1}\n",
    "    )\n",
    "    \n",
    "    #Distribute negative constant exponents over addition\n",
    "    negExpAddExpandRule = Rule(\n",
    "        match = (Symbol(\"0\") + Symbol(\"1\")) ** Symbol(\"2\"),\n",
    "        replace = (Symbol(\"0\") + Symbol(\"1\")) ** -1 * (Symbol(\"0\") + Symbol(\"1\")) ** Symbol(\"2\"),\n",
    "        capFilters = {2: lambda e: e < -1 if isinstance(e, Number) else False},\n",
    "        capModifiers = {2: lambda e: e + 1}\n",
    "    )\n",
    "    \n",
    "    #Right Heavy Addition Rule\n",
    "    rightHeavyAdditionRule = Rule(\n",
    "        match = (Symbol(\"0\") + Symbol(\"1\")) + Symbol(\"2\"),\n",
    "        replace = Symbol(\"0\") + (Symbol(\"1\") + Symbol(\"2\"))\n",
    "    )\n",
    "    \n",
    "    #Right Heavy Multiplication Rule\n",
    "    rightHeavyMultRule = Rule(\n",
    "        match = (Symbol(\"0\") * Symbol(\"1\")) * Symbol(\"2\"),\n",
    "        replace = Symbol(\"0\") * (Symbol(\"1\") * Symbol(\"2\"))\n",
    "    )\n",
    "    \n",
    "    def multCompareSortRule(first, second):\n",
    "        \"\"\"Compares two factors to determine how they should be ordered. \n",
    "        Returns True if they should be swapped and False otherwise.\"\"\"\n",
    "        if isinstance(first, Number):\n",
    "            return False #we want numbers first\n",
    "        elif isinstance(second, Number):\n",
    "            return True #we know first is not a number, and if second is a number then they need to switch\n",
    "        elif isinstance(first, BinaryExpression) and first.operator == \"^\": #TODO does it matter if the base is a constant?\n",
    "            return Rules.multCompareSortRule(first.left, second) #we want to sort by bases, not exponents\n",
    "        elif isinstance(second, BinaryExpression) and second.operator == \"^\": #TODO ditto\n",
    "            return Rules.multCompareSortRule(first, second.left) #we want to sort by bases, not exponents\n",
    "        else:\n",
    "            return hash(second) < hash(first) #now sort by hashes\n",
    "        \n",
    "    def addCompareSortRule(first, second):\n",
    "        \"\"\"Compares two addends to determine how they should be ordered.\n",
    "        Returns True if they should be swapped and False Otherwise.\"\"\"\n",
    "        if isinstance(first, Number):\n",
    "            return False #we want numbers first\n",
    "        elif isinstance(second, Number):\n",
    "            return True #we know first is not a number, and if second is a number then they need to switch\n",
    "        elif isinstance(first, BinaryExpression) and first.operator == \"*\" and isinstance(first.left, Number):\n",
    "            return Rules.addCompareSortRule(first.right, second) #we want to sort by term excluding coefficients\n",
    "        elif isinstance(second, BinaryExpression) and second.operator == \"*\" and isinstance(second.left, Number):\n",
    "            return Rules.addCompareSortRule(first, second.right) #we want to sort by term excluding coefficients\n",
    "        else:\n",
    "            return hash(second) < hash(first) #now sort by hashes\n",
    "    \n",
    "    #Matches mutiplication with a product as the right child (chain multiplication)\n",
    "    multChainMatchRule = MatchRule(\n",
    "        match = Symbol(\"0\") * (Symbol(\"1\") * Symbol(\"2\"))\n",
    "    )\n",
    "\n",
    "    #Matches multiplication without a product as the right child (non-chain multiplication)\n",
    "    multMatchRule = MatchRule(\n",
    "        match = Symbol(\"0\") * Symbol(\"1\"),\n",
    "        capFilters = {1: lambda e: e.operator != \"*\" if isinstance(e, BinaryExpression) else True}\n",
    "    )\n",
    "\n",
    "    #Rule for sorting multiplication in a chain (where the right child is also a product)\n",
    "    hashMultChainSortRule = Rule(\n",
    "        match = Symbol(\"0\"),\n",
    "        replace = Symbol(\"0\"),\n",
    "        capFilters = {0: lambda e: Rules.multCompareSortRule(e.left, e.right.left)\n",
    "                      if e.matchRule(Rules.multChainMatchRule)[0] else False},\n",
    "        capModifiers = {0: lambda e: BinaryExpression(e.right.left, \"*\",\n",
    "                                                  BinaryExpression(e.left, \"*\", e.right.right))}\n",
    "    )\n",
    "    \n",
    "    #Rule for sorting multiplication not in a chain (where the right child is not a product)\n",
    "    hashMultSortRule = Rule(\n",
    "        match = Symbol(\"0\"),\n",
    "        replace = Symbol(\"0\"),\n",
    "        capFilters = {0: lambda e: Rules.multCompareSortRule(e.left, e.right)\n",
    "                      if e.matchRule(Rules.multMatchRule)[0] else False},\n",
    "        capModifiers = {0: lambda e: BinaryExpression(e.right, \"*\", e.left)}\n",
    "    )\n",
    "    \n",
    "    #Matches addition with a sum as the right child (chain addition)\n",
    "    addChainMatchRule = MatchRule(\n",
    "        match = Symbol(\"0\") + (Symbol(\"1\") + Symbol(\"2\"))\n",
    "    )\n",
    "    \n",
    "    #Matches addition without a sum as the right child (non-chain addition)\n",
    "    addMatchRule = MatchRule(\n",
    "        match = Symbol(\"0\") + Symbol(\"1\"),\n",
    "        capFilters = {1: lambda e: e.operator != \"+\" if isinstance(e, BinaryExpression) else True}\n",
    "    )\n",
    "    \n",
    "    #Rule for sorting addition in a chain (where the right child is also a sum)\n",
    "    hashAddChainSortRule = Rule(\n",
    "        match = Symbol(\"0\"),\n",
    "        replace = Symbol(\"0\"),\n",
    "        capFilters = {0: lambda e: Rules.addCompareSortRule(e.left, e.right.left) \n",
    "                      if e.matchRule(Rules.addChainMatchRule)[0] else False},\n",
    "        capModifiers = {0: lambda e: BinaryExpression(e.right.left, \"+\",\n",
    "                                                     BinaryExpression(e.left, \"+\", e.right.right))}\n",
    "    )\n",
    "    \n",
    "    #Rule for sorting addition not in a chain (where the right child is not a sum)\n",
    "    hashAddSortRule = Rule(\n",
    "        match = Symbol(\"0\"),\n",
    "        replace = Symbol(\"0\"),\n",
    "        capFilters = {0: lambda e: Rules.addCompareSortRule(e.left, e.right) \n",
    "                      if e.matchRule(Rules.addMatchRule)[0] else False},\n",
    "        capModifiers = {0: lambda e: BinaryExpression(e.right, \"+\", e.left)}\n",
    "    )\n",
    "    \n",
    "    #Left Mult by Constant Match Rule\n",
    "    leftConstMult = MatchRule(\n",
    "        match = Symbol(\"0\") * Symbol(\"1\"),\n",
    "        capFilters = {0: lambda e: isinstance(e, Number)}\n",
    "    )\n",
    "    \n",
    "    #Constant Multiply Evaluable Match Rule\n",
    "    multEvaluableMatchRule = MatchRule(\n",
    "        match = Symbol(\"0\"),\n",
    "        capFilters = {0: lambda e: isinstance(e, BinaryExpression) and e.matchRule(Rules.leftConstMult)[0] \\\n",
    "                      and (isinstance(e.right, Number) or (e.right.matchRule(Rules.leftConstMult)[0] \\\n",
    "                           if isinstance(e.right, BinaryExpression) else False))}\n",
    "    )\n",
    "\n",
    "    #Constant Multiplication Evaluation Rule\n",
    "    constMultEvalRule = Rule(\n",
    "        match = Symbol(\"0\"),\n",
    "        replace = Symbol(\"0\"),\n",
    "        capFilters = {0: lambda e: isinstance(e, BinaryExpression) and e.matchRule(Rules.multEvaluableMatchRule)[0]},\n",
    "        capModifiers = {0: lambda e: e.left * e.right if isinstance(e.right, Number) \\\n",
    "                        else (e.left * e.right.left) * e.right.right}\n",
    "    )\n",
    "    \n",
    "    #Left Constant Add Match Rule\n",
    "    leftConstAdd = MatchRule(\n",
    "        match = Symbol(\"0\") + Symbol(\"1\"),\n",
    "        capFilters = {0: lambda e: isinstance(e, Number)}\n",
    "    )\n",
    "    \n",
    "    #Constant Add Evaluable Match Rule\n",
    "    addEvaluableMatchRule = MatchRule(\n",
    "        match = Symbol(\"0\"),\n",
    "        capFilters = {0: lambda e: isinstance(e, BinaryExpression) and e.matchRule(Rules.leftConstAdd)[0] \\\n",
    "                      and (isinstance(e.right, Number) or (e.right.matchRule(Rules.leftConstAdd)[0] \\\n",
    "                           if isinstance(e.right, BinaryExpression) else False))}\n",
    "    )\n",
    "    \n",
    "    #Constant Add Evaluation Rule\n",
    "    constAddEvalRule = Rule(\n",
    "        match = Symbol(\"0\"),\n",
    "        replace = Symbol(\"0\"),\n",
    "        capFilters = {0: lambda e: isinstance(e, BinaryExpression) and e.matchRule(Rules.addEvaluableMatchRule)[0]},\n",
    "        capModifiers = {0: lambda e: e.left + e.right if isinstance(e.right, Number) \\\n",
    "                        else (e.left + e.right.left) + e.right.right}\n",
    "    )\n",
    "    \n",
    "    #Constant Exponent Evaluable Match Rule\n",
    "    expEvaluableMatchRule = MatchRule(\n",
    "        match = Symbol(\"0\") ** Symbol(\"1\"),\n",
    "        capFilters = {0: lambda e: isinstance(e, Number), 1: lambda e: isinstance(e, Number)}\n",
    "    )\n",
    "    \n",
    "    #Constant Exponent Evaluation Rule\n",
    "    constExpEvalRule = Rule(\n",
    "        match = Symbol(\"0\"),\n",
    "        replace = Symbol(\"0\"),\n",
    "        capFilters = {0: lambda e: e.matchRule(Rules.expEvaluableMatchRule)[0] if isinstance(e, BinaryExpression) else False},\n",
    "        capModifiers = {0: lambda e: e.left ** e.right}\n",
    "    )\n",
    "    \n",
    "    def likeTermsRule(first, second):\n",
    "        \"\"\"Determines if two terms are like. Returns True if they are and False Otherwise.\"\"\"\n",
    "        if isinstance(first, BinaryExpression) and first.matchRule(Rules.leftConstMult)[0]:\n",
    "            return Rules.likeTermsRule(first.right, second)\n",
    "        elif isinstance(second, BinaryExpression) and second.matchRule(Rules.leftConstMult)[0]:\n",
    "            return Rules.likeTermsRule(first, second.right)\n",
    "        else:\n",
    "            return first == second\n",
    "        \n",
    "    def combineLikeTerms(first, second): #Assumes that first and second are like terms\n",
    "        \"\"\"Combines two like terms and returns the result. Unchecked Precondition: the terms are like.\"\"\"\n",
    "        if isinstance(first, BinaryExpression) and first.matchRule(Rules.leftConstMult)[0]:\n",
    "            if isinstance(second, BinaryExpression) and second.matchRule(Rules.leftConstMult)[0]: #first and second have coefficient\n",
    "                return (first.left + second.left) * first.right\n",
    "            else: #first has coefficient, second does not\n",
    "                return Rules.combineLikeTerms(second, first)\n",
    "        elif isinstance(second, BinaryExpression) and second.matchRule(Rules.leftConstMult)[0]: #first does not, second does\n",
    "            return (1 + second.left) * first\n",
    "        else: #neither has a coefficient\n",
    "            return 2 * first\n",
    "                \n",
    "    #Rule for combining like terms\n",
    "    addCombineRule = Rule(\n",
    "        match = Symbol(\"0\"),\n",
    "        replace = Symbol(\"0\"),\n",
    "        capFilters = {0: lambda e: Rules.likeTermsRule(e.left, e.right) if isinstance(e, BinaryExpression) \n",
    "                      and e.matchRule(Rules.addMatchRule)[1] else False},\n",
    "        capModifiers = {0: lambda e: Rules.combineLikeTerms(e.left, e.right)}\n",
    "    )\n",
    "    \n",
    "    #Rule for combining like terms in chain addition (where the right child is a sum)\n",
    "    addChainCombineRule = Rule(\n",
    "        match = Symbol(\"0\"),\n",
    "        replace = Symbol(\"0\"),\n",
    "        capFilters = {0: lambda e: Rules.likeTermsRule(e.left, e.right.left) if isinstance(e, BinaryExpression) \n",
    "                      and e.matchRule(Rules.addChainMatchRule)[1] else False},\n",
    "        capModifiers = {0: lambda e: Rules.combineLikeTerms(e.left, e.right.left) + e.right.right}\n",
    "    )\n",
    "    \n",
    "    def likeFactorsRule(first, second):\n",
    "        \"\"\"Determines if two factors are like. Returns True if they are and False otherwise.\"\"\"\n",
    "        if isinstance(first, BinaryExpression) and first.operator == \"^\":\n",
    "            if isinstance(first.left, BinaryExpression) and first.left.operator == \"^\":\n",
    "                return False\n",
    "            else:\n",
    "                return Rules.likeFactorsRule(first.left, second)\n",
    "        elif isinstance(second, BinaryExpression) and second.operator == \"^\":\n",
    "            if isinstance(second.left, BinaryExpression) and second.left.operator == \"^\":\n",
    "                return False\n",
    "            else:\n",
    "                return Rules.likeFactorsRule(first, second.left)\n",
    "        else:\n",
    "            if isinstance(first, BinaryExpression) or isinstance(second, BinaryExpression):\n",
    "                return False\n",
    "            elif isinstance(first, Number) or isinstance(second, Number):\n",
    "                return False\n",
    "            else:\n",
    "                return first == second\n",
    "        \n",
    "    def combineLikeFactors(first, second): #Assumes that first and second are like factors\n",
    "        \"\"\"Combines two like factors and returns the result. Unchecked Precondition: the factors are like.\"\"\"\n",
    "        if isinstance(first, BinaryExpression) and first.operator == \"^\":\n",
    "            if isinstance(second, BinaryExpression) and second.operator == \"^\": #first and second have exponents\n",
    "                return first.left ** (first.right + second.right)\n",
    "            else: #first has exponent, second does not\n",
    "                return Rules.combineLikeFactors(second, first)\n",
    "        elif isinstance(second, BinaryExpression) and second.operator == \"^\": #first does not, second does\n",
    "            return first ** (second.right + 1)\n",
    "        else: #neither has an exponent\n",
    "            return first ** 2\n",
    "    \n",
    "    #Combine exponents over multiplication\n",
    "    expCombineRule = Rule(\n",
    "        match = Symbol(\"0\"),\n",
    "        replace = Symbol(\"0\"),\n",
    "        capFilters = {0: lambda e: Rules.likeFactorsRule(e.left, e.right)\n",
    "                      if (e.matchRule(Rules.multMatchRule)[0] if isinstance(e, BinaryExpression) else False) \n",
    "                      else False},\n",
    "        capModifiers = {0: lambda e: Rules.combineLikeFactors(e.left, e.right)}\n",
    "    )\n",
    "    \n",
    "    #Combine exponents in multiplication chain\n",
    "    expMultChainCombineRule = Rule(\n",
    "        match = Symbol(\"0\"),\n",
    "        replace = Symbol(\"0\"),\n",
    "        capFilters = {0: lambda e: Rules.likeFactorsRule(e.left, e.right.left) \n",
    "                      if (e.matchRule(Rules.multChainMatchRule)[0] if isinstance(e, BinaryExpression) else False)\n",
    "                      else False},\n",
    "        capModifiers = {0: lambda e: e.right.right * Rules.combineLikeFactors(e.left, e.right.left)}\n",
    "    )\n",
    "    \n",
    "    #Matches addition in an exponent\n",
    "    expAddMatchRule = MatchRule(\n",
    "        match = Symbol(\"0\") ** (Symbol(\"1\") + Symbol(\"2\")),\n",
    "        capFilters = {0: lambda e: isinstance(e, BinaryExpression) or isinstance(e, Number)}\n",
    "    )\n",
    "    \n",
    "    #Splitting Exponent Addition\n",
    "    expSplitRule = Rule(\n",
    "        match = Symbol(\"0\"),\n",
    "        replace = Symbol(\"0\"),\n",
    "        capFilters = {0: lambda e: isinstance(e.right.left, Number) or isinstance(e.right.right, Number) \n",
    "                      if (e.matchRule(Rules.expAddMatchRule)[0] if isinstance(e, BinaryExpression) else False) else False},\n",
    "        capModifiers = {0: lambda e: (e.left ** e.right.left) * (e.left ** e.right.right)}\n",
    "    )\n",
    "    \n",
    "    #Multiplicative Inverse Rule\n",
    "    multInverseRule = Rule(\n",
    "        match = Symbol(\"0\") * Symbol(\"1\"),\n",
    "        replace = Symbol(\"0\"),\n",
    "        capFilters = {0: lambda e: e == 0},\n",
    "        capModifiers = {0: lambda e: 0}\n",
    "    )\n",
    "    \n",
    "    #Multiplicative Identity Rule\n",
    "    multIdentityRule = Rule(\n",
    "        match = Symbol(\"0\") * Symbol(\"1\"),\n",
    "        replace = Symbol(\"1\"),\n",
    "        capFilters = {0: lambda e: e == 1}\n",
    "    )\n",
    "    \n",
    "    #Addative Identity Rule\n",
    "    addIdentityRule = Rule(\n",
    "        match = Symbol(\"0\") + Symbol(\"1\"),\n",
    "        replace = Symbol(\"1\"),\n",
    "        capFilters = {0: lambda e: e == 0}\n",
    "    )\n",
    "    \n",
    "    #Exponential Identity Rule\n",
    "    expIdentityRule = Rule(\n",
    "        match = Symbol(\"0\") ** Symbol(\"1\"),\n",
    "        replace = Symbol(\"0\"),\n",
    "        capFilters = {1: lambda e: e == 1}\n",
    "    )\n",
    "    \n",
    "    #Exponential Inverse Rule\n",
    "    expInverseRule = Rule(\n",
    "        match = Symbol(\"0\") ** Symbol(\"1\"),\n",
    "        replace = Symbol(\"0\"),\n",
    "        capFilters = {1: lambda e: e == 0},\n",
    "        capModifiers = {0: lambda e: 1}\n",
    "    )\n",
    "    \n",
    "    #Defualt Ruleset\n",
    "    defaultRuleset = Ruleset([\n",
    "        noSubtractionRule,\n",
    "        noDivisionRule,\n",
    "        constMultEvalRule,\n",
    "        multiplicationExpandRule,\n",
    "        rightHeavyMultRule,\n",
    "        hashMultSortRule,\n",
    "        hashMultChainSortRule,\n",
    "        rightHeavyAdditionRule,\n",
    "        constAddEvalRule,\n",
    "        hashAddSortRule,\n",
    "        hashAddChainSortRule,\n",
    "        addCombineRule,\n",
    "        addChainCombineRule,\n",
    "        multInverseRule,\n",
    "        multIdentityRule,\n",
    "        addIdentityRule,\n",
    "        expIdentityRule,\n",
    "        expInverseRule,\n",
    "        expPowerRule,\n",
    "        expMultDistributeRule,\n",
    "        constExpEvalRule,\n",
    "        multNegExpExpandRule,\n",
    "        expAddExpandRule,\n",
    "        negExpAddExpandRule,\n",
    "        expCombineRule,\n",
    "        expMultChainCombineRule,\n",
    "        expSplitRule\n",
    "    ])"
   ]
  },
  {
   "cell_type": "code",
   "execution_count": 9,
   "metadata": {},
   "outputs": [],
   "source": [
    "class Equality(): #Equality class\n",
    "    pass"
   ]
  },
  {
   "cell_type": "code",
   "execution_count": 10,
   "metadata": {},
   "outputs": [],
   "source": [
    "x = Symbol(\"x\")\n",
    "y = Symbol(\"y\")\n",
    "z = Symbol(\"z\")\n",
    "a = Symbol(\"a\")\n",
    "b = Symbol(\"b\")"
   ]
  },
  {
   "cell_type": "code",
   "execution_count": 13,
   "metadata": {},
   "outputs": [
    {
     "data": {
      "text/plain": [
       "\n",
       "+\n",
       "  *\n",
       "    9\n",
       "    ^\n",
       "      x\n",
       "      4\n",
       "  +\n",
       "    *\n",
       "      174\n",
       "      ^\n",
       "        x\n",
       "        3\n",
       "    *\n",
       "      91\n",
       "      ^\n",
       "        x\n",
       "        2"
      ]
     },
     "execution_count": 13,
     "metadata": {},
     "output_type": "execute_result"
    }
   ],
   "source": [
    "e = 6 * x ** 2 * (3 * x + 4) ** 2 - 5 * (x - 3 * x ** 2) ** 2\n",
    "e = e.applyRuleset(Rules.defaultRuleset)\n",
    "e"
   ]
  },
  {
   "cell_type": "code",
   "execution_count": 508,
   "metadata": {},
   "outputs": [
    {
     "data": {
      "text/plain": [
       "\n",
       "+\n",
       "  *\n",
       "    25\n",
       "    ^\n",
       "      +\n",
       "        5\n",
       "        x\n",
       "      y\n",
       "  +\n",
       "    *\n",
       "      10\n",
       "      *\n",
       "        x\n",
       "        ^\n",
       "          +\n",
       "            5\n",
       "            x\n",
       "          y\n",
       "    *\n",
       "      ^\n",
       "        x\n",
       "        2\n",
       "      ^\n",
       "        +\n",
       "          5\n",
       "          x\n",
       "        y"
      ]
     },
     "execution_count": 508,
     "metadata": {},
     "output_type": "execute_result"
    }
   ],
   "source": [
    "e = (x + 5) ** (y + 2)\n",
    "e = e.applyRuleset(Rules.defaultRuleset)\n",
    "e"
   ]
  },
  {
   "cell_type": "code",
   "execution_count": null,
   "metadata": {},
   "outputs": [],
   "source": []
  },
  {
   "cell_type": "code",
   "execution_count": null,
   "metadata": {},
   "outputs": [],
   "source": []
  },
  {
   "cell_type": "code",
   "execution_count": 483,
   "metadata": {},
   "outputs": [
    {
     "data": {
      "text/plain": [
       "True"
      ]
     },
     "execution_count": 483,
     "metadata": {},
     "output_type": "execute_result"
    }
   ],
   "source": [
    "Rules.likeFactorsRule(x ** 5, x ** 2)"
   ]
  },
  {
   "cell_type": "code",
   "execution_count": 495,
   "metadata": {},
   "outputs": [
    {
     "data": {
      "text/plain": [
       "(False, None)"
      ]
     },
     "execution_count": 495,
     "metadata": {},
     "output_type": "execute_result"
    }
   ],
   "source": [
    "e = y ** 5 * x ** 2\n",
    "e.applyRule(Rules.expCombineRule)"
   ]
  },
  {
   "cell_type": "code",
   "execution_count": null,
   "metadata": {},
   "outputs": [],
   "source": []
  },
  {
   "cell_type": "code",
   "execution_count": 433,
   "metadata": {},
   "outputs": [
    {
     "data": {
      "text/plain": [
       "\n",
       "+\n",
       "  -25\n",
       "  *\n",
       "    x\n",
       "    x"
      ]
     },
     "execution_count": 433,
     "metadata": {},
     "output_type": "execute_result"
    }
   ],
   "source": [
    "e = (x + 5) * (x - 5)\n",
    "e = e.applyRuleset(Rules.defaultRuleset)\n",
    "e"
   ]
  },
  {
   "cell_type": "code",
   "execution_count": 434,
   "metadata": {},
   "outputs": [
    {
     "data": {
      "text/plain": [
       "125"
      ]
     },
     "execution_count": 434,
     "metadata": {},
     "output_type": "execute_result"
    }
   ],
   "source": [
    "e = BinaryExpression(5, \"^\", 3)\n",
    "e = e.applyRuleset(Rules.defaultRuleset)\n",
    "e"
   ]
  },
  {
   "cell_type": "code",
   "execution_count": 436,
   "metadata": {},
   "outputs": [
    {
     "data": {
      "text/plain": [
       "\n",
       "^\n",
       "  +\n",
       "    -25\n",
       "    *\n",
       "      x\n",
       "      x\n",
       "  -1"
      ]
     },
     "execution_count": 436,
     "metadata": {},
     "output_type": "execute_result"
    }
   ],
   "source": [
    "e = (x + 5) ** -1 * (x - 5) ** -1\n",
    "e = e.applyRuleset(Rules.defaultRuleset)\n",
    "e"
   ]
  },
  {
   "cell_type": "code",
   "execution_count": 386,
   "metadata": {},
   "outputs": [
    {
     "data": {
      "text/plain": [
       "\n",
       "*\n",
       "  6\n",
       "  x"
      ]
     },
     "execution_count": 386,
     "metadata": {},
     "output_type": "execute_result"
    }
   ],
   "source": [
    "e = x + x * 5\n",
    "e = e.applyRuleset(Rules.defaultRuleset)\n",
    "e"
   ]
  },
  {
   "cell_type": "code",
   "execution_count": 388,
   "metadata": {},
   "outputs": [
    {
     "data": {
      "text/plain": [
       "y"
      ]
     },
     "execution_count": 388,
     "metadata": {},
     "output_type": "execute_result"
    }
   ],
   "source": [
    "e = x ** 0 * y ** (1 + 0 * z)\n",
    "e = e.applyRuleset(Rules.defaultRuleset)\n",
    "e"
   ]
  },
  {
   "cell_type": "code",
   "execution_count": 443,
   "metadata": {},
   "outputs": [
    {
     "data": {
      "text/plain": [
       "True"
      ]
     },
     "execution_count": 443,
     "metadata": {},
     "output_type": "execute_result"
    }
   ],
   "source": [
    "3 % 1 == 0"
   ]
  },
  {
   "cell_type": "code",
   "execution_count": 497,
   "metadata": {},
   "outputs": [
    {
     "data": {
      "text/plain": [
       "\n",
       "+\n",
       "  125\n",
       "  +\n",
       "    ^\n",
       "      x\n",
       "      3\n",
       "    +\n",
       "      *\n",
       "        15\n",
       "        ^\n",
       "          x\n",
       "          2\n",
       "      *\n",
       "        75\n",
       "        x"
      ]
     },
     "execution_count": 497,
     "metadata": {},
     "output_type": "execute_result"
    }
   ],
   "source": [
    "e = (x + 5) ** 3\n",
    "e = e.applyRuleset(Rules.defaultRuleset)\n",
    "e"
   ]
  },
  {
   "cell_type": "code",
   "execution_count": 471,
   "metadata": {},
   "outputs": [
    {
     "data": {
      "text/plain": [
       "\n",
       "^\n",
       "  +\n",
       "    125\n",
       "    +\n",
       "      *\n",
       "        15\n",
       "        *\n",
       "          x\n",
       "          x\n",
       "      +\n",
       "        *\n",
       "          x\n",
       "          *\n",
       "            x\n",
       "            x\n",
       "        *\n",
       "          75\n",
       "          x\n",
       "  -1"
      ]
     },
     "execution_count": 471,
     "metadata": {},
     "output_type": "execute_result"
    }
   ],
   "source": [
    "e = (x + 5) ** -3\n",
    "e = e.applyRuleset(Rules.defaultRuleset)\n",
    "e"
   ]
  },
  {
   "cell_type": "code",
   "execution_count": 299,
   "metadata": {},
   "outputs": [
    {
     "data": {
      "text/plain": [
       "\n",
       "*\n",
       "  8\n",
       "  ^\n",
       "    x\n",
       "    2"
      ]
     },
     "execution_count": 299,
     "metadata": {},
     "output_type": "execute_result"
    }
   ],
   "source": [
    "Rules.combineLikeTerms(7 * x ** 2, x ** 2)"
   ]
  },
  {
   "cell_type": "code",
   "execution_count": 244,
   "metadata": {},
   "outputs": [
    {
     "data": {
      "text/plain": [
       "True"
      ]
     },
     "execution_count": 244,
     "metadata": {},
     "output_type": "execute_result"
    }
   ],
   "source": [
    "Rules.addCompareSortRule(3 * x, 10)"
   ]
  },
  {
   "cell_type": "code",
   "execution_count": 245,
   "metadata": {},
   "outputs": [
    {
     "data": {
      "text/plain": [
       "True"
      ]
     },
     "execution_count": 245,
     "metadata": {},
     "output_type": "execute_result"
    }
   ],
   "source": [
    "e = 3 * x + 10\n",
    "e.matchRule(Rules.addMatchRule)[0]"
   ]
  },
  {
   "cell_type": "code",
   "execution_count": 246,
   "metadata": {},
   "outputs": [
    {
     "data": {
      "text/plain": [
       "(True, \n",
       " +\n",
       "   x\n",
       "   +\n",
       "     y\n",
       "     z)"
      ]
     },
     "execution_count": 246,
     "metadata": {},
     "output_type": "execute_result"
    }
   ],
   "source": [
    "e = (x + y) + z\n",
    "e.applyRule(Rules.rightHeavyAdditionRule)"
   ]
  },
  {
   "cell_type": "code",
   "execution_count": 255,
   "metadata": {},
   "outputs": [
    {
     "name": "stdout",
     "output_type": "stream",
     "text": [
      "\n",
      "+\n",
      "  +\n",
      "    +\n",
      "      +\n",
      "        +\n",
      "          +\n",
      "            *\n",
      "              5\n",
      "              x\n",
      "            7\n",
      "          y\n",
      "        *\n",
      "          3\n",
      "          x\n",
      "      10\n",
      "    a\n",
      "  b\n"
     ]
    },
    {
     "data": {
      "text/plain": [
       "\n",
       "+\n",
       "  17\n",
       "  +\n",
       "    a\n",
       "    +\n",
       "      y\n",
       "      +\n",
       "        b\n",
       "        +\n",
       "          *\n",
       "            5\n",
       "            x\n",
       "          *\n",
       "            3\n",
       "            x"
      ]
     },
     "execution_count": 255,
     "metadata": {},
     "output_type": "execute_result"
    }
   ],
   "source": [
    "e = (5 * x) + 7 + y + (3 * x) + 10 + a + b\n",
    "print(e)\n",
    "e = e.applyRuleset(Rules.defaultRuleset)\n",
    "e"
   ]
  },
  {
   "cell_type": "code",
   "execution_count": 192,
   "metadata": {},
   "outputs": [
    {
     "data": {
      "text/plain": [
       "+\n",
       "  10\n",
       "  x"
      ]
     },
     "execution_count": 192,
     "metadata": {},
     "output_type": "execute_result"
    }
   ],
   "source": [
    "e = 7 + (3 + x)\n",
    "e = e.applyRuleset(Rules.defaultRuleset)\n",
    "e"
   ]
  },
  {
   "cell_type": "code",
   "execution_count": 182,
   "metadata": {},
   "outputs": [
    {
     "data": {
      "text/plain": [
       "*\n",
       "  35\n",
       "  *\n",
       "    a\n",
       "    *\n",
       "      ^\n",
       "        a\n",
       "        2\n",
       "      *\n",
       "        ^\n",
       "          a\n",
       "          5\n",
       "        y"
      ]
     },
     "execution_count": 182,
     "metadata": {},
     "output_type": "execute_result"
    }
   ],
   "source": [
    "e = (a * 5) * ((a ** 2 * y) * (7 * a ** 5))\n",
    "e = e.applyRuleset(Rules.defaultRuleset)\n",
    "e"
   ]
  },
  {
   "cell_type": "code",
   "execution_count": null,
   "metadata": {},
   "outputs": [],
   "source": []
  },
  {
   "cell_type": "code",
   "execution_count": 184,
   "metadata": {},
   "outputs": [
    {
     "name": "stdout",
     "output_type": "stream",
     "text": [
      "+\n",
      "  *\n",
      "    50\n",
      "    *\n",
      "      a\n",
      "      x\n",
      "  +\n",
      "    *\n",
      "      250\n",
      "      a\n",
      "    b\n"
     ]
    }
   ],
   "source": [
    "e = a * 5 * (x + 5) * 10 + b\n",
    "e = e.applyRuleset(Rules.defaultRuleset)\n",
    "print(e.generateTreeString())"
   ]
  },
  {
   "cell_type": "code",
   "execution_count": 106,
   "metadata": {},
   "outputs": [
    {
     "name": "stdout",
     "output_type": "stream",
     "text": [
      "+\n",
      "  +\n",
      "    *\n",
      "      3\n",
      "      y\n",
      "    15\n",
      "  *\n",
      "    3\n",
      "    z\n"
     ]
    }
   ],
   "source": [
    "e = 3 * ((y + 5) + z)\n",
    "e = e.applyRuleset(Rules.defaultRuleset)\n",
    "print(e.generateTreeString())"
   ]
  },
  {
   "cell_type": "code",
   "execution_count": 107,
   "metadata": {},
   "outputs": [
    {
     "name": "stdout",
     "output_type": "stream",
     "text": [
      "+\n",
      "  *\n",
      "    x\n",
      "    a\n",
      "  *\n",
      "    y\n",
      "    a\n"
     ]
    }
   ],
   "source": [
    "e = a * (x + y)\n",
    "e = e.applyRuleset(Rules.defaultRuleset)\n",
    "#e = e.applyRule(Rules.multiplicationExpandRule)\n",
    "print(e.generateTreeString())"
   ]
  },
  {
   "cell_type": "code",
   "execution_count": 108,
   "metadata": {},
   "outputs": [
    {
     "name": "stdout",
     "output_type": "stream",
     "text": [
      "*\n",
      "  3\n",
      "  z\n"
     ]
    }
   ],
   "source": [
    "e = z * 3\n",
    "e = e.applyRuleset(Rules.defaultRuleset)\n",
    "print(e.generateTreeString())"
   ]
  },
  {
   "cell_type": "code",
   "execution_count": 114,
   "metadata": {},
   "outputs": [
    {
     "name": "stdout",
     "output_type": "stream",
     "text": [
      "*\n",
      "  2\n",
      "  +\n",
      "    *\n",
      "      3\n",
      "      x\n",
      "    *\n",
      "      *\n",
      "        3\n",
      "        y\n",
      "      4\n",
      "\n",
      "\n",
      "+\n",
      "  *\n",
      "    6\n",
      "    x\n",
      "  *\n",
      "    24\n",
      "    y\n",
      "\n",
      "\n",
      "+\n",
      "  *\n",
      "    6\n",
      "    x\n",
      "  *\n",
      "    24\n",
      "    y\n"
     ]
    }
   ],
   "source": [
    "e = 2 * (3 * x + 3 * y * 4)\n",
    "print(e.generateTreeString())\n",
    "print(\"\\n\")\n",
    "e = e.applyRuleset(Rules.defaultRuleset)\n",
    "print(e.generateTreeString())\n",
    "print(\"\\n\")\n",
    "e = (3 * x + 3 * y * 4) * 2\n",
    "e = e.applyRuleset(Rules.defaultRuleset)\n",
    "print(e.generateTreeString())"
   ]
  },
  {
   "cell_type": "code",
   "execution_count": 10,
   "metadata": {},
   "outputs": [],
   "source": [
    "import unittest"
   ]
  },
  {
   "cell_type": "code",
   "execution_count": 40,
   "metadata": {},
   "outputs": [
    {
     "name": "stderr",
     "output_type": "stream",
     "text": [
      "testConstMultEvalRule (__main__.TestRules) ... ok\n",
      "testMultiplicationExpandRule (__main__.TestRules) ... ok\n",
      "testNoConstRightMultRule (__main__.TestRules) ... ok\n",
      "testNoDivisionRule (__main__.TestRules) ... ok\n",
      "testNoSubtractionRule (__main__.TestRules) ... ok\n",
      "testCase0 (__main__.TestRuleset) ... ok\n",
      "testCase1 (__main__.TestRuleset) ... ok\n",
      "testCase2 (__main__.TestRuleset) ... ok\n",
      "\n",
      "----------------------------------------------------------------------\n",
      "Ran 8 tests in 0.008s\n",
      "\n",
      "OK\n"
     ]
    }
   ],
   "source": [
    "class TestRules(unittest.TestCase):\n",
    "    \"\"\"Testing class for Rules\"\"\"\n",
    "    x = Symbol(\"x\")\n",
    "    y = Symbol(\"y\")\n",
    "    z = Symbol(\"z\")\n",
    "    \n",
    "    def testNoDivisionRule(self):\n",
    "        e = self.x / self.y\n",
    "        e = e.applyRule(Rules.noDivisionRule)[1]\n",
    "        self.assertEqual(e, self.x * self.y ** -1)\n",
    "        \n",
    "        e = 2 / self.x\n",
    "        e = e.applyRule(Rules.noDivisionRule)[1]\n",
    "        self.assertEqual(e, 2 * self.x ** -1)\n",
    "        \n",
    "        e = self.x / 3\n",
    "        e = e.applyRule(Rules.noDivisionRule)[1]\n",
    "        self.assertEqual(e, self.x * BinaryExpression(3, \"^\", -1))\n",
    "        \n",
    "        e = BinaryExpression(3, \"/\", 2)\n",
    "        e = e.applyRule(Rules.noDivisionRule)[1]\n",
    "        self.assertEqual(e, 3 * BinaryExpression(2, \"^\", -1))\n",
    "        \n",
    "        e = self.x * self.y\n",
    "        self.assertEqual(e.applyRule(Rules.noDivisionRule)[0], False)\n",
    "        \n",
    "    def testNoSubtractionRule(self):\n",
    "        e = self.x - self.y\n",
    "        e = e.applyRule(Rules.noSubtractionRule)[1]\n",
    "        self.assertEqual(e, self.x + -1 * self.y)\n",
    "        \n",
    "        e = 2 - self.x\n",
    "        e = e.applyRule(Rules.noSubtractionRule)[1]\n",
    "        self.assertEqual(e, 2 + -1 * self.x)\n",
    "        \n",
    "        e = self.x - 3\n",
    "        e = e.applyRule(Rules.noSubtractionRule)[1]\n",
    "        self.assertEqual(e, self.x + BinaryExpression(-1, \"*\", 3))\n",
    "        \n",
    "        e = BinaryExpression(3, \"-\", 2)\n",
    "        e = e.applyRule(Rules.noSubtractionRule)[1]\n",
    "        self.assertEqual(e, 3 + BinaryExpression(-1, \"*\", 2))\n",
    "        \n",
    "        e = self.x + self.y\n",
    "        self.assertEqual(e.applyRule(Rules.noSubtractionRule)[0], False)\n",
    "        \n",
    "    def testNoConstRightMultRule(self):\n",
    "        e = self.x * 5\n",
    "        e = e.applyRule(Rules.noConstRightMultRule)[1]\n",
    "        self.assertEqual(e, 5 * self.x)\n",
    "        \n",
    "        e = self.x * 5.0\n",
    "        e = e.applyRule(Rules.noConstRightMultRule)[1]\n",
    "        self.assertEqual(e, 5.0 * self.x)\n",
    "        \n",
    "        e = 2 * self.x\n",
    "        self.assertEqual(e.applyRule(Rules.noConstRightMultRule)[0], False)\n",
    "        \n",
    "        e = self.x * self.y\n",
    "        self.assertEqual(e.applyRule(Rules.noConstRightMultRule)[0], False)\n",
    "        \n",
    "    def testConstMultEvalRule(self):\n",
    "        #Note that it only applies to left const mult\n",
    "        e = 2 * self.x\n",
    "        self.assertEqual(e.applyRule(Rules.constMultEvalRule)[0], False)\n",
    "        \n",
    "        e = BinaryExpression(2, \"*\", 5)\n",
    "        e = e.applyRule(Rules.constMultEvalRule)[1]\n",
    "        self.assertEqual(e, 10)\n",
    "        \n",
    "        e = 2 * (3 * self.x)\n",
    "        e = e.applyRule(Rules.constMultEvalRule)[1]\n",
    "        self.assertEqual(e, 6 * self.x)\n",
    "        \n",
    "    def testMultiplicationExpandRule(self):\n",
    "        e = 2 * (self.x + self.y)\n",
    "        e = e.applyRule(Rules.multiplicationExpandRule)[1]\n",
    "        self.assertEqual(e, self.x * 2 + self.y * 2)\n",
    "        \n",
    "        e = 5.5 * (self.x + self.y)\n",
    "        e = e.applyRule(Rules.multiplicationExpandRule)[1]\n",
    "        self.assertEqual(e, self.x * 5.5 + self.y * 5.5)\n",
    "        \n",
    "        e = (self.x + self.y) * self.z\n",
    "        e = e.applyRule(Rules.multiplicationExpandRule)[1]\n",
    "        self.assertEqual(e, self.x * self.z + self.y * self.z)\n",
    "\n",
    "        \n",
    "        \n",
    "class TestRuleset(unittest.TestCase):\n",
    "    \"Testing case for the default ruleset\"\n",
    "    x = Symbol(\"x\")\n",
    "    y = Symbol(\"y\")\n",
    "    z = Symbol(\"z\")\n",
    "\n",
    "    def testCase0(self):\n",
    "        e = 2 * self.x * 1.5\n",
    "        e = e.applyRuleset(Rules.defaultRuleset)\n",
    "        self.assertEqual(e, 3.0 * self.x)\n",
    "        \n",
    "    def testCase1(self):\n",
    "        e = self.x * self.y\n",
    "        e = e.applyRuleset(Rules.defaultRuleset)\n",
    "        self.assertEqual(e, self.x * self.y)\n",
    "        \n",
    "    def testCase2(self):\n",
    "        e = 10 * (self.x + 5)\n",
    "        e = e.applyRuleset(Rules.defaultRuleset)\n",
    "        self.assertEqual(e, 10 * self.x + 50)\n",
    "        \n",
    "        \n",
    "        \n",
    "\n",
    "unittest.main(argv=[''], verbosity=2, exit=False)\n",
    "pass"
   ]
  },
  {
   "cell_type": "code",
   "execution_count": null,
   "metadata": {},
   "outputs": [],
   "source": []
  },
  {
   "cell_type": "code",
   "execution_count": null,
   "metadata": {},
   "outputs": [],
   "source": []
  }
 ],
 "metadata": {
  "kernelspec": {
   "display_name": "Python 3",
   "language": "python",
   "name": "python3"
  },
  "language_info": {
   "codemirror_mode": {
    "name": "ipython",
    "version": 3
   },
   "file_extension": ".py",
   "mimetype": "text/x-python",
   "name": "python",
   "nbconvert_exporter": "python",
   "pygments_lexer": "ipython3",
   "version": "3.7.3"
  }
 },
 "nbformat": 4,
 "nbformat_minor": 2
}
